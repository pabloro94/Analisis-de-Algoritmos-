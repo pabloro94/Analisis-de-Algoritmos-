{
 "cells": [
  {
   "cell_type": "markdown",
   "metadata": {},
   "source": [
    "# Punto 1"
   ]
  },
  {
   "cell_type": "code",
   "execution_count": 1,
   "metadata": {
    "collapsed": true
   },
   "outputs": [],
   "source": [
    "import random\n",
    "import numpy as np\n",
    "\n",
    "def crearGrafo(omega, n, minw, maxw):\n",
    "    G = {};\n",
    "    mat = np.ones((n , n) ) * float('inf')\n",
    "    for i in range(n):\n",
    "        x = {};\n",
    "        for j in range(n):\n",
    "            if i <> j:\n",
    "                a = random.randrange(0.0,100.0)\n",
    "                b = a/100.0\n",
    "                if(b > omega):\n",
    "                    peso = random.randrange(minw,maxw)\n",
    "                    x[str(j)] = peso;\n",
    "                    mat[i,j] = peso;\n",
    "            else:\n",
    "                mat[i,j] = 0;\n",
    "        G[str(i)] = x;\n",
    "    \n",
    "    return G, mat"
   ]
  },
  {
   "cell_type": "code",
   "execution_count": 2,
   "metadata": {
    "collapsed": false
   },
   "outputs": [
    {
     "data": {
      "text/plain": [
       "({'0': {'1': 5, '2': 7, '3': 9, '4': 9},\n",
       "  '1': {'0': 8, '4': 5},\n",
       "  '2': {'0': 7, '4': 9},\n",
       "  '3': {'1': 5},\n",
       "  '4': {'0': 5, '1': 9, '2': 8}},\n",
       " array([[  0.,   5.,   7.,   9.,   9.],\n",
       "        [  8.,   0.,  inf,  inf,   5.],\n",
       "        [  7.,  inf,   0.,  inf,   9.],\n",
       "        [ inf,   5.,  inf,   0.,  inf],\n",
       "        [  5.,   9.,   8.,  inf,   0.]]))"
      ]
     },
     "execution_count": 2,
     "metadata": {},
     "output_type": "execute_result"
    }
   ],
   "source": [
    "crearGrafo ( 0.5 , 5 , 5 , 10 )"
   ]
  },
  {
   "cell_type": "markdown",
   "metadata": {},
   "source": [
    "# Punto 2"
   ]
  },
  {
   "cell_type": "code",
   "execution_count": 4,
   "metadata": {
    "collapsed": true
   },
   "outputs": [],
   "source": [
    "from heapq import heappush, heappop\n",
    "\n",
    "def updateheap(heap,d,v):\n",
    "    for i in range(len(heap)):\n",
    "        if heap[i][1] == v:\n",
    "            heap[i][0] = d\n",
    "            fix_minheap(heap,i) # heap=heapify(heap) ineficient      \n",
    "            break    \n",
    "\n",
    "def fix_minheap(heap, i):\n",
    "    if i == 0: return  \n",
    "    p = int(i/2) #parent  \n",
    "    if p >= 0 and heap[p][0] > heap[i][0]:\n",
    "        heap[i], heap[p] = heap[p], heap[i]\n",
    "        fix_minheap(heap,p)   \n",
    "            \n",
    "def Dijkstra(G,start):\n",
    "        \n",
    "    D = {} # dictionary of final distances\n",
    "    for v in G:\n",
    "        D[v] = float('inf')\n",
    "    D[start] = 0\n",
    "    \n",
    "    P = {} # dictionary of predecessors\n",
    "    \n",
    "    Q=[] #  priority queue est.dist. of non-final vert.\n",
    "    for v in G:\n",
    "        item = []\n",
    "        item.append(D[v])\n",
    "        item.append(v)\n",
    "        heappush(Q,item)\n",
    "    \n",
    "    \n",
    "    #S = []\n",
    "    while Q:\n",
    "        u = heappop(Q)[1]\n",
    "        #S.append(u)\n",
    "        for v in G[u]:\n",
    "            newDuv = D[u] + G[u][v]\n",
    "            if newDuv < D[v]:\n",
    "                P[v] = u\n",
    "                D[v] = newDuv\n",
    "                updateheap(Q,D[v],v)\n",
    "    return D,P"
   ]
  },
  {
   "cell_type": "code",
   "execution_count": 5,
   "metadata": {
    "collapsed": true
   },
   "outputs": [],
   "source": [
    "def DijkstraTodos(G):\n",
    "    resultado={}\n",
    "    for i in G:\n",
    "        resultado[i]=Dijkstra(G,i)\n",
    "    return resultado"
   ]
  },
  {
   "cell_type": "code",
   "execution_count": 6,
   "metadata": {
    "collapsed": false
   },
   "outputs": [
    {
     "name": "stdout",
     "output_type": "stream",
     "text": [
      "{'a': ({'a': 0, 'c': 9, 'b': 8, 'e': 7, 'd': 5}, {'c': 'b', 'b': 'd', 'e': 'd', 'd': 'a'}), 'c': ({'a': 11, 'c': 0, 'b': 19, 'e': 4, 'd': 16}, {'a': 'e', 'b': 'd', 'e': 'c', 'd': 'a'}), 'b': ({'a': 11, 'c': 1, 'b': 0, 'e': 4, 'd': 2}, {'a': 'e', 'c': 'b', 'e': 'd', 'd': 'b'}), 'e': ({'a': 7, 'c': 6, 'b': 15, 'e': 0, 'd': 12}, {'a': 'e', 'c': 'e', 'b': 'd', 'd': 'a'}), 'd': ({'a': 9, 'c': 4, 'b': 3, 'e': 2, 'd': 0}, {'a': 'e', 'c': 'b', 'b': 'd', 'e': 'd'})}\n"
     ]
    }
   ],
   "source": [
    "G = {'a': {'b':10, 'd':5},\n",
    "    'b': {'c':1, 'd':2},\n",
    "    'c': {'e':4},\n",
    "    'd':{'b':3,'c':9,'e':2},\n",
    "    'e':{'a':7,'c':6}}\n",
    "\n",
    "print(DijkstraTodos(G))"
   ]
  },
  {
   "cell_type": "markdown",
   "metadata": {
    "collapsed": true
   },
   "source": [
    "# Punto 3"
   ]
  },
  {
   "cell_type": "code",
   "execution_count": 11,
   "metadata": {
    "collapsed": false
   },
   "outputs": [],
   "source": [
    "def BellmanFord(G,start):\n",
    "    \n",
    "    D = {} # dictionary of final distances\n",
    "    for v in G:\n",
    "        D[v] = float('inf')\n",
    "    D[start] = 0\n",
    "    \n",
    "    P = {} # dictionary of predecessors\n",
    "    \n",
    "    for i in range(len(G)-1):\n",
    "        for u in G:\n",
    "            for v in G[u]:   \n",
    "                newDv = D[u] + G[u][v]\n",
    "                if newDv < D[v]:\n",
    "                    P[v] = u\n",
    "                    D[v] = newDv\n",
    "    \n",
    "    for u in G:\n",
    "        for v in G[u]:   \n",
    "            newDv = D[u] + G[u][v]\n",
    "            if newDv < D[v]: print(\"Negative cicle\",u,v)\n",
    "                \n",
    "    return D,P"
   ]
  },
  {
   "cell_type": "code",
   "execution_count": 12,
   "metadata": {
    "collapsed": false
   },
   "outputs": [],
   "source": [
    "def BellmanFordTodos(G):\n",
    "    \n",
    "    T={};\n",
    "    for n in G:\n",
    "        D,P = BellmanFord(G, n);\n",
    "        T[n] = D;\n",
    "    return T;"
   ]
  },
  {
   "cell_type": "code",
   "execution_count": 13,
   "metadata": {
    "collapsed": false
   },
   "outputs": [
    {
     "name": "stdout",
     "output_type": "stream",
     "text": [
      "{'a': {'a': 0, 'c': 9, 'b': 8, 'e': 7, 'd': 5}, 'c': {'a': 11, 'c': 0, 'b': 19, 'e': 4, 'd': 16}, 'b': {'a': 11, 'c': 1, 'b': 0, 'e': 4, 'd': 2}, 'e': {'a': 7, 'c': 6, 'b': 15, 'e': 0, 'd': 12}, 'd': {'a': 9, 'c': 4, 'b': 3, 'e': 2, 'd': 0}}\n"
     ]
    }
   ],
   "source": [
    "G = {'a': {'b':10, 'd':5},\n",
    "    'b': {'c':1, 'd':2},\n",
    "    'c': {'e':4},\n",
    "    'd':{'b':3,'c':9,'e':2},\n",
    "    'e':{'a':7,'c':6}}\n",
    "\n",
    "print(BellmanFordTodos(G))"
   ]
  },
  {
   "cell_type": "markdown",
   "metadata": {
    "collapsed": true
   },
   "source": [
    "# Punto 4"
   ]
  },
  {
   "cell_type": "code",
   "execution_count": 1,
   "metadata": {
    "collapsed": true
   },
   "outputs": [],
   "source": [
    "import Queue\n",
    "\n",
    "def BFS(G):\n",
    "    \n",
    "    resultado={}\n",
    "    for m in G:\n",
    "        q = Queue.Queue()\n",
    "        visitados=[]\n",
    "        q.put(m)\n",
    "        while not q.empty():\n",
    "            v=q.get()\n",
    "            if v not in visitados:\n",
    "                visitados.append(v)\n",
    "                for i in G[v]:\n",
    "                    if i not in visitados:\n",
    "                        q.put(i)                \n",
    "        resultado[m]=visitados\n",
    "        \n",
    "    return(resultado)\n",
    "\n"
   ]
  },
  {
   "cell_type": "code",
   "execution_count": 2,
   "metadata": {
    "collapsed": false
   },
   "outputs": [
    {
     "name": "stdout",
     "output_type": "stream",
     "text": [
      "{'a': ['a', 'b', 'd', 'c', 'e'], 'c': ['c', 'e', 'a', 'b', 'd'], 'b': ['b', 'c', 'd', 'e', 'a'], 'e': ['e', 'a', 'c', 'b', 'd'], 'd': ['d', 'c', 'b', 'e', 'a']}\n"
     ]
    }
   ],
   "source": [
    "G = {'a': {'b':10, 'd':5},\n",
    "    'b': {'c':1, 'd':2},\n",
    "    'c': {'e':4},\n",
    "    'd':{'b':3,'c':9,'e':2},\n",
    "    'e':{'a':7,'c':6}}\n",
    "print(BFS(G))"
   ]
  },
  {
   "cell_type": "markdown",
   "metadata": {},
   "source": [
    "# Punto 5"
   ]
  },
  {
   "cell_type": "code",
   "execution_count": null,
   "metadata": {
    "collapsed": true
   },
   "outputs": [],
   "source": []
  }
 ],
 "metadata": {
  "kernelspec": {
   "display_name": "Python 2",
   "language": "python",
   "name": "python2"
  },
  "language_info": {
   "codemirror_mode": {
    "name": "ipython",
    "version": 2
   },
   "file_extension": ".py",
   "mimetype": "text/x-python",
   "name": "python",
   "nbconvert_exporter": "python",
   "pygments_lexer": "ipython2",
   "version": "2.7.12"
  }
 },
 "nbformat": 4,
 "nbformat_minor": 1
}
