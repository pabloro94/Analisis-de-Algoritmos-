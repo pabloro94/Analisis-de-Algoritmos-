{
 "cells": [
  {
   "cell_type": "markdown",
   "metadata": {},
   "source": [
    "# Punto 1"
   ]
  },
  {
   "cell_type": "markdown",
   "metadata": {},
   "source": [
    "El algoritmo se encarga de llenar en primera instancia una matriz con las pendientes de cada uno de los puntos, posteriormente por cada fila presente en la matriz busca coincidencias en los valores de las pendientes y en caso de que encuentre dos valores iguales significa que hay 3 puntos colineales."
   ]
  },
  {
   "cell_type": "code",
   "execution_count": 6,
   "metadata": {
    "collapsed": false
   },
   "outputs": [
    {
     "name": "stdout",
     "output_type": "stream",
     "text": [
      "Collinear\n"
     ]
    }
   ],
   "source": [
    "import numpy as np\n",
    "def collinear(points):\n",
    "    tam=len(points)\n",
    "    matrix=np.zeros((tam,tam))\n",
    "    for i in range(tam):\n",
    "        for j in range(tam):\n",
    "            if i!=j:\n",
    "                if points[j][0]-points[i][0]!=0:\n",
    "                    matrix[i][j]=(points[j][1]-points[i][1])/(points[j][0]-points[i][0])\n",
    "                else:\n",
    "                    matrix[i][j]=-float('inf')\n",
    "            else:\n",
    "                matrix[i][j]=-float('inf')\n",
    "\n",
    "    dict={}\n",
    "    for i in range(tam):\n",
    "        for j in range(tam):\n",
    "            if i!=j:\n",
    "                if matrix[i][j]!=-float('inf'):\n",
    "                    if (dict.get(matrix[i][j])):\n",
    "                        \n",
    "                        return True\n",
    "                    else:\n",
    "                        dict[matrix[i][j]]=1\n",
    "        dict.clear()\n",
    "    return False\n",
    "\n",
    "lista=[]\n",
    "P1 = [0.,0.]\n",
    "lista.append(P1)\n",
    "P2 = [50.,100.]\n",
    "lista.append(P2)\n",
    "P3 = [25.,50.]\n",
    "lista.append(P3)\n",
    "sol=collinear(lista)\n",
    "\n",
    "if sol:\n",
    "    print ('Collinear')\n",
    "else:\n",
    "    print ('Not collinear')"
   ]
  },
  {
   "cell_type": "markdown",
   "metadata": {},
   "source": [
    "# Punto 2"
   ]
  },
  {
   "cell_type": "code",
   "execution_count": 4,
   "metadata": {
    "collapsed": false
   },
   "outputs": [],
   "source": [
    "def mergesort(alist):\n",
    "    if len(alist)>1:\n",
    "        mid = len(alist)//2\n",
    "        lefthalf = alist[:mid]\n",
    "        righthalf = alist[mid:]\n",
    "\n",
    "        mergesort(lefthalf)\n",
    "        mergesort(righthalf)\n",
    "\n",
    "        i=0\n",
    "        j=0\n",
    "        k=0\n",
    "        while i < len(lefthalf) and j < len(righthalf):\n",
    "            if (lefthalf[i][0] < righthalf[j][0] ) or (lefthalf[i][0] == righthalf[j][0] and lefthalf[i][1] < righthalf[j][1]):\n",
    "                alist[k]=lefthalf[i]\n",
    "                i=i+1\n",
    "            else:\n",
    "                alist[k]=righthalf[j]\n",
    "                j=j+1\n",
    "            k=k+1\n",
    "\n",
    "        while i < len(lefthalf):\n",
    "            alist[k]=lefthalf[i]\n",
    "            i=i+1\n",
    "            k=k+1\n",
    "\n",
    "        while j < len(righthalf):\n",
    "            alist[k]=righthalf[j]\n",
    "            j=j+1\n",
    "            k=k+1\n"
   ]
  },
  {
   "cell_type": "code",
   "execution_count": 5,
   "metadata": {
    "collapsed": true
   },
   "outputs": [],
   "source": [
    "def interseccion(p1,p2,q1,q2):\n",
    "    if p2[0] <> p1[0] and q2[0] <> q1[0]:\n",
    "        m1 = (p2[1]-p1[1])/(p2[0]-p1[0])\n",
    "        m2 = (q2[1]-q1[1])/(q2[0]-q1[0])\n",
    "    else:\n",
    "        return 0\n",
    "    \n",
    "    \n",
    "    b1 = p2[1] - (m1 * p2[0])\n",
    "    b2 = q2[1] - (m2 * q2[0])  \n",
    "    \n",
    "    if m1 <> m2:\n",
    "        x = (b2-b1)/(m1-m2)\n",
    "    else:\n",
    "        return 0\n",
    "    y = (m1 * x) + b1  \n",
    "    \n",
    "    if( (x >= p1[0] and x <= p2[0]) or (x >= p2[0] and x <= p1[0]) ):\n",
    "        if( (x >= q1[0] and x <= q2[0]) or (x >= q2[0] and x <= q1[0]) ):\n",
    "            if( (y >= p1[1] and y <= p2[1]) or (y >= p2[1] and y <= p1[1]) ):\n",
    "                if( (y >= q1[1] and y <= q2[1]) or (y >= q2[1] and y <= q1[1]) ):\n",
    "                    return 1\n",
    "    \n",
    "    return 0\n",
    "\n",
    "def izquierda2(p, p2):\n",
    "    if(p[0] < p2[0] or (p[0] == p2[0]  and p[1] < p2[1] )):\n",
    "        return 1\n",
    "    else:\n",
    "        return 0"
   ]
  },
  {
   "cell_type": "code",
   "execution_count": 6,
   "metadata": {
    "collapsed": true
   },
   "outputs": [],
   "source": [
    "def left(p, lista):\n",
    "    for i in lista:\n",
    "        if(i[2] == p[2]):\n",
    "            if(i[0] < p[0]):\n",
    "                return 1\n",
    "            else:\n",
    "                return 0\n",
    "\n",
    "def add(lista , p):\n",
    "    a = True\n",
    "    for i in range(len(lista)):\n",
    "        if p[1] < lista[i][1] or (p[1] == lista[i][1] and p[0] < lista[i][0]):\n",
    "            lista.append([1])\n",
    "            for j in range(len(lista)-1 , i , -1 ):\n",
    "                lista[j] = lista[j-1]\n",
    "            lista[i] = p\n",
    "            a = False\n",
    "            return\n",
    "    if a == True:\n",
    "        lista.append(p)\n",
    "        \n",
    "def mayormenor (lista, p):\n",
    "    for i in range(len(lista)):\n",
    "        if p[2] == lista[i][2]:\n",
    "            if i == 0 and len(lista) == 1:\n",
    "                return -1,-1\n",
    "            if i == 0 and len(lista) > 1:\n",
    "                return -1, lista[i+1]\n",
    "            if i == len(lista)-1:\n",
    "                return lista[i-1],-1\n",
    "            return lista[i-1] , lista[i+1]\n",
    "    return -1 , -1\n",
    "            \n",
    "def delete (lista , p):\n",
    "    arr = []\n",
    "    for i in range (len(lista)):\n",
    "        if p[2] <> lista[i][2]:\n",
    "            arr.append(lista[i])\n",
    "    return arr\n",
    "\n",
    "def busquedaPar(lista , p):\n",
    "    for i in lista:\n",
    "        if i[2] == p[2] and (i[0] <> p[0] or i[1] <> p[1]) :\n",
    "            return i\n",
    "\n",
    "def poligonosimple(lista):\n",
    "    mergesort(lista)\n",
    "    print lista\n",
    "    arr = []\n",
    "    for p in lista:\n",
    "        a = left(p , lista)\n",
    "        if a == 1:\n",
    "            add(arr, p)\n",
    "            p1 , p2 = mayormenor(arr, p)\n",
    "            if p1 <> -1 :\n",
    "                p3 = busquedaPar(lista , p1)\n",
    "                p4 = busquedaPar(lista , p)\n",
    "                b = interseccion(p1, p3 , p , p4)\n",
    "                if b == 1:\n",
    "                    print \"Se intersectan, poligono simple\"\n",
    "                    #return\n",
    "            if p2 <> -1 :\n",
    "                p3 = busquedaPar(lista , p2)\n",
    "                p4 = busquedaPar(lista , p)\n",
    "                b = interseccion(p2, p3 , p, p4)\n",
    "                if b == 1:\n",
    "                    print \"Se intersectan, poligono simple\"\n",
    "                    #return\n",
    "        else:\n",
    "            p1 , p2 = mayormenor(arr, p)\n",
    "            arr = delete(arr, p)\n",
    "            if p1 <> -1 and p2 <> -1:\n",
    "                b = inter(p1 , p2)\n",
    "                if(b == 1):\n",
    "                    print \"Se intersectan, poligono simple\"\n",
    "                    #return\n",
    "\n"
   ]
  },
  {
   "cell_type": "code",
   "execution_count": 7,
   "metadata": {
    "collapsed": false
   },
   "outputs": [
    {
     "name": "stdout",
     "output_type": "stream",
     "text": [
      "[[0, 0, 5], [0, 0, 1], [0, 2, 4], [0, 2, 3], [1, -1, 5], [1, -1, 4], [2, 0, 2], [2, 0, 1], [2, 2, 3], [2, 2, 2]]\n",
      "Se intersectan, poligono simple\n"
     ]
    }
   ],
   "source": [
    "lista = []\n",
    "P11 = [0, 0, 1]\n",
    "lista.append(P11)\n",
    "P21 = [2, 0, 1]\n",
    "lista.append(P21)\n",
    "P22 = [2, 0, 2]\n",
    "lista.append(P22)\n",
    "P31 = [2, 2, 2]\n",
    "lista.append(P31)\n",
    "P32 = [2, 2, 3]\n",
    "lista.append(P32)\n",
    "P41 = [0, 2, 3]\n",
    "lista.append(P41)\n",
    "P42 = [0, 2, 4]\n",
    "lista.append(P42)\n",
    "P51 = [1, -1, 4]\n",
    "lista.append(P51)\n",
    "P52 = [1, -1, 5]\n",
    "lista.append(P52)\n",
    "P12 = [0, 0, 5]\n",
    "lista.append(P12)\n",
    "poligonosimple(lista)"
   ]
  },
  {
   "cell_type": "code",
   "execution_count": null,
   "metadata": {
    "collapsed": true
   },
   "outputs": [],
   "source": []
  }
 ],
 "metadata": {
  "kernelspec": {
   "display_name": "Python 2",
   "language": "python",
   "name": "python2"
  },
  "language_info": {
   "codemirror_mode": {
    "name": "ipython",
    "version": 2
   },
   "file_extension": ".py",
   "mimetype": "text/x-python",
   "name": "python",
   "nbconvert_exporter": "python",
   "pygments_lexer": "ipython2",
   "version": "2.7.12"
  }
 },
 "nbformat": 4,
 "nbformat_minor": 1
}
