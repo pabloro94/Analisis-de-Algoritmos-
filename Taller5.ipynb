{
 "cells": [
  {
   "cell_type": "markdown",
   "metadata": {},
   "source": [
    "# Punto 1 "
   ]
  },
  {
   "cell_type": "code",
   "execution_count": 1,
   "metadata": {
    "collapsed": false
   },
   "outputs": [
    {
     "data": {
      "text/plain": [
       "{'A', 'B', 'C', 'D', 'E', 'F'}"
      ]
     },
     "execution_count": 1,
     "metadata": {},
     "output_type": "execute_result"
    }
   ],
   "source": [
    "def dfs(graph, start):\n",
    "    visited, stack = set(), [start]\n",
    "    while stack:\n",
    "        vertex = stack.pop()\n",
    "        if vertex not in visited:\n",
    "            visited.add(vertex)\n",
    "            stack.extend(graph[vertex] - visited)\n",
    "    return visited\n",
    "\n",
    "graph = {'A': set(['B', 'C']),\n",
    "         'B': set(['A', 'D', 'E']),\n",
    "         'C': set(['A', 'F']),\n",
    "         'D': set(['B']),\n",
    "         'E': set(['B', 'F']),\n",
    "         'F': set(['C', 'E'])}\n",
    "\n",
    "dfs(graph, 'A') "
   ]
  },
  {
   "cell_type": "markdown",
   "metadata": {},
   "source": [
    "# Punto 5"
   ]
  },
  {
   "cell_type": "code",
   "execution_count": 2,
   "metadata": {
    "collapsed": false
   },
   "outputs": [
    {
     "name": "stdout",
     "output_type": "stream",
     "text": [
      "(60, ['A', 'B', 'D', 'E', 'F'])\n",
      "({'A': 0, 'C': 20, 'B': 10, 'E': 55, 'D': 25, 'G': 62, 'F': 60}, {'C': 'A', 'B': 'A', 'E': 'D', 'D': 'B', 'G': 'F', 'F': 'E'})\n"
     ]
    }
   ],
   "source": [
    "from collections import defaultdict, deque\n",
    "\n",
    "\n",
    "class Graph(object):\n",
    "    def __init__(self):\n",
    "        self.nodes = set()\n",
    "        self.edges = defaultdict(list)\n",
    "        self.distances = {}\n",
    "\n",
    "    def add_node(self, value):\n",
    "        self.nodes.add(value)\n",
    "\n",
    "    def add_edge(self, from_node, to_node, distance):\n",
    "        self.edges[from_node].append(to_node)\n",
    "        self.edges[to_node].append(from_node)\n",
    "        self.distances[(from_node, to_node)] = distance\n",
    "\n",
    "\n",
    "def dijkstra(graph, initial):\n",
    "    visited = {initial: 0}\n",
    "    path = {}\n",
    "\n",
    "    nodes = set(graph.nodes)\n",
    "\n",
    "    while nodes:\n",
    "        min_node = None\n",
    "        for node in nodes:\n",
    "            if node in visited:\n",
    "                if min_node is None:\n",
    "                    min_node = node\n",
    "                elif visited[node] < visited[min_node]:\n",
    "                    min_node = node\n",
    "        if min_node is None:\n",
    "            break\n",
    "\n",
    "        nodes.remove(min_node)\n",
    "        current_weight = visited[min_node]\n",
    "\n",
    "        for edge in graph.edges[min_node]:\n",
    "            try:\n",
    "                weight = current_weight + graph.distances[(min_node, edge)]\n",
    "            except:\n",
    "                continue\n",
    "            if edge not in visited or weight < visited[edge]:\n",
    "                visited[edge] = weight\n",
    "                path[edge] = min_node\n",
    "\n",
    "    return visited, path\n",
    "\n",
    "\n",
    "def shortest_path(graph, origin, destination):\n",
    "    visited, paths = dijkstra(graph, origin)\n",
    "    full_path = deque()\n",
    "    _destination = paths[destination]\n",
    "\n",
    "    while _destination != origin:\n",
    "        full_path.appendleft(_destination)\n",
    "        _destination = paths[_destination]\n",
    "\n",
    "    full_path.appendleft(origin)\n",
    "    full_path.append(destination)\n",
    "\n",
    "    return visited[destination], list(full_path)\n",
    "\n",
    "graph = Graph()\n",
    "\n",
    "for node in ['A', 'B', 'C', 'D', 'E', 'F', 'G']:\n",
    "    graph.add_node(node)\n",
    "\n",
    "graph.add_edge('A', 'B', 10)\n",
    "graph.add_edge('A', 'C', 20)\n",
    "graph.add_edge('B', 'D', 15)\n",
    "graph.add_edge('C', 'D', 30)\n",
    "graph.add_edge('B', 'E', 50)\n",
    "graph.add_edge('D', 'E', 30)\n",
    "graph.add_edge('E', 'F', 5)\n",
    "graph.add_edge('F', 'G', 2)\n",
    "\n",
    "print(shortest_path(graph, 'A', 'F')) # output: (25, ['A', 'B', 'D']) \n",
    "print(dijkstra(graph,'A'))"
   ]
  },
  {
   "cell_type": "code",
   "execution_count": null,
   "metadata": {
    "collapsed": true
   },
   "outputs": [],
   "source": []
  }
 ],
 "metadata": {
  "anaconda-cloud": {},
  "kernelspec": {
   "display_name": "Python [conda root]",
   "language": "python",
   "name": "conda-root-py"
  },
  "language_info": {
   "codemirror_mode": {
    "name": "ipython",
    "version": 2
   },
   "file_extension": ".py",
   "mimetype": "text/x-python",
   "name": "python",
   "nbconvert_exporter": "python",
   "pygments_lexer": "ipython2",
   "version": "2.7.12"
  }
 },
 "nbformat": 4,
 "nbformat_minor": 1
}
