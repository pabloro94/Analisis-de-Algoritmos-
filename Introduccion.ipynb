{
 "cells": [
  {
   "cell_type": "markdown",
   "metadata": {},
   "source": [
    "<h1>Análisando algoritmos de ordenamiento</h1>"
   ]
  },
  {
   "cell_type": "code",
   "execution_count": 1,
   "metadata": {
    "collapsed": true
   },
   "outputs": [],
   "source": [
    "import math\n",
    "import numpy as np\n",
    "import pylab as pl\n",
    "%matplotlib inline"
   ]
  },
  {
   "cell_type": "markdown",
   "metadata": {},
   "source": [
    "<h2>Problema de ordenamiento</h2>\n",
    "\n",
    "Input:  $A[1..n] = <a_1,a_2\\ldots, a_n>$\n",
    "\n",
    "Output: $A'[1..n] = <a'_1,a'_2\\ldots, a'_n> : a'_1\\leq a'_2 \\leq \\ldots \\leq  a'_n$"
   ]
  },
  {
   "cell_type": "markdown",
   "metadata": {},
   "source": [
    "<h3> Ordenamiento por inserción </h3>"
   ]
  },
  {
   "cell_type": "code",
   "execution_count": 2,
   "metadata": {
    "collapsed": true
   },
   "outputs": [],
   "source": [
    "def insertion_sort(A):\n",
    "    j = 1\n",
    "    while j < len(A):\n",
    "        key = A[j]\n",
    "        i = j - 1\n",
    "        while (i >= 0) and (A[i] > key):\n",
    "            A[i + 1] = A[i]\n",
    "            i = i -1\n",
    "        A[i + 1] = key\n",
    "        j = j + 1"
   ]
  },
  {
   "cell_type": "code",
   "execution_count": 3,
   "metadata": {
    "collapsed": false
   },
   "outputs": [
    {
     "name": "stdout",
     "output_type": "stream",
     "text": [
      "[1 6 3 0 9 4 8 5 7 2]\n",
      "[0 1 2 3 4 5 6 7 8 9]\n"
     ]
    }
   ],
   "source": [
    "B = np.random.permutation(range(0,10))\n",
    "print B\n",
    "insertion_sort(B)\n",
    "print B"
   ]
  },
  {
   "cell_type": "markdown",
   "metadata": {},
   "source": [
    "<h4>Correctitud</h4>\n",
    "\n",
    "<b>Invariante:</b> Al comienzo de cada iteración del ciclo externo el subarreglo $A[0..j-1]$ consiste de los elementos originalmente en $A[0..j-1]$ pero ordenados."
   ]
  },
  {
   "cell_type": "code",
   "execution_count": 4,
   "metadata": {
    "collapsed": true
   },
   "outputs": [],
   "source": [
    "def invariant(A, original_A):\n",
    "    l1 = list(A)\n",
    "    l2 = list(original_A)\n",
    "    l2.sort()\n",
    "    return l1 == l2"
   ]
  },
  {
   "cell_type": "code",
   "execution_count": 5,
   "metadata": {
    "collapsed": false
   },
   "outputs": [
    {
     "name": "stdout",
     "output_type": "stream",
     "text": [
      "True\n",
      "False\n"
     ]
    }
   ],
   "source": [
    "print invariant([1, 2, 3, 4], [4, 3, 2, 1])\n",
    "print invariant([1, 2, 3, 4], [5, 3, 2, 1])"
   ]
  },
  {
   "cell_type": "markdown",
   "metadata": {},
   "source": [
    "Algoritmo de ordenamiento por inserción incluyendo evaluación de la invariante (inicialización, mantenimiento, terminación)"
   ]
  },
  {
   "cell_type": "code",
   "execution_count": 6,
   "metadata": {
    "collapsed": true
   },
   "outputs": [],
   "source": [
    "def right_insertion_sort(A):\n",
    "    original_A = list(A)\n",
    "    j = 1\n",
    "    assert invariant(A[0:j], original_A[0:j])\n",
    "    while j < len(A):\n",
    "        assert invariant(A[0:j], original_A[0:j])\n",
    "        key = A[j]\n",
    "        i = j - 1\n",
    "        while (i >= 0) and (A[i] > key):\n",
    "            A[i + 1] = A[i]\n",
    "            i = i -1        \n",
    "        A[i + 1] = key\n",
    "        j = j + 1\n",
    "    assert invariant(A[0:j], original_A[0:j])"
   ]
  },
  {
   "cell_type": "code",
   "execution_count": 7,
   "metadata": {
    "collapsed": false
   },
   "outputs": [
    {
     "name": "stdout",
     "output_type": "stream",
     "text": [
      "[1, 2, 3, 4, 5, 6, 7, 8, 9]\n"
     ]
    }
   ],
   "source": [
    "B = [5, 4, 6, 3, 7, 2, 8, 1, 9]\n",
    "right_insertion_sort(B)\n",
    "print B"
   ]
  },
  {
   "cell_type": "markdown",
   "metadata": {},
   "source": [
    "La siguiente función incluye un error, por lo tanto la aserción para comprobar el invariante de ciclo falla. Esto genera una excepción que es capturada para imprimir un mensaje y el estado de las variables."
   ]
  },
  {
   "cell_type": "code",
   "execution_count": 8,
   "metadata": {
    "collapsed": true
   },
   "outputs": [],
   "source": [
    "def wrong_insertion_sort(A):\n",
    "    original_A = list(A)\n",
    "    j = 1\n",
    "    try:\n",
    "        assert invariant(A[0:j], original_A[0:j])\n",
    "        while j < len(A):\n",
    "            assert invariant(A[0:j], original_A[0:j])\n",
    "            key = A[j]\n",
    "            i = j - 1\n",
    "            while (i >= 0) and (A[i] < key):\n",
    "                A[i + 1] = A[i]\n",
    "                i = i - 1        \n",
    "            A[i + 1] = key\n",
    "            j = j + 1\n",
    "        assert invariant(A[0:j], original_A[0:j])\n",
    "    except  AssertionError:\n",
    "        print \"Error en el invariante de ciclo!\"\n",
    "        print \"j=\", j\n",
    "        print \"i=\", i\n",
    "        print \"A=\", A\n",
    "        print \"Original A=\", original_A"
   ]
  },
  {
   "cell_type": "code",
   "execution_count": 9,
   "metadata": {
    "collapsed": false
   },
   "outputs": [
    {
     "name": "stdout",
     "output_type": "stream",
     "text": [
      "Error en el invariante de ciclo!\n",
      "j= 2\n",
      "i= 0\n",
      "A= [5, 4, 6, 3, 7, 2, 8, 1, 9]\n",
      "Original A= [5, 4, 6, 3, 7, 2, 8, 1, 9]\n"
     ]
    }
   ],
   "source": [
    "B = [5, 4, 6, 3, 7, 2, 8, 1, 9]\n",
    "wrong_insertion_sort(B)"
   ]
  },
  {
   "cell_type": "markdown",
   "metadata": {},
   "source": [
    "<h4> Análisis del tiempo de ejecución</h4>"
   ]
  },
  {
   "cell_type": "code",
   "execution_count": 11,
   "metadata": {
    "collapsed": true
   },
   "outputs": [],
   "source": [
    "class Counter:\n",
    "    '''\n",
    "    Class Counter\n",
    "    Implements a step counter, which is used to compute the number of basic operations performed in\n",
    "    a particular call to a function.\n",
    "    '''\n",
    "    def __init__(self):\n",
    "        self.steps = 0\n",
    "\n",
    "    def reset(self):\n",
    "        self.steps = 0\n",
    "\n",
    "    def count(self):\n",
    "        self.steps += 1\n",
    "\n",
    "    def print_steps(self):\n",
    "        print \"Number of steps =\", self.steps\n",
    "        \n",
    "def acct_insertion_sort(A, acct):\n",
    "    j = 1; acct.count()\n",
    "    acct.count()\n",
    "    while j < len(A):\n",
    "        acct.count()\n",
    "        key = A[j]; acct.count()\n",
    "        i = j - 1; acct.count()\n",
    "        acct.count()\n",
    "        while (i >= 0) and (A[i] > key):\n",
    "            acct.count()\n",
    "            A[i + 1] = A[i]; acct.count()\n",
    "            i = i -1; acct.count()\n",
    "        A[i + 1] = key; acct.count()\n",
    "        j = j + 1; acct.count()"
   ]
  },
  {
   "cell_type": "code",
   "execution_count": 12,
   "metadata": {
    "collapsed": false,
    "scrolled": true
   },
   "outputs": [
    {
     "name": "stdout",
     "output_type": "stream",
     "text": [
      "Number of steps = 125\n"
     ]
    }
   ],
   "source": [
    "B = np.random.permutation(range(0,10))\n",
    "acct = Counter()\n",
    "acct_insertion_sort(B, acct)\n",
    "acct.print_steps()"
   ]
  },
  {
   "cell_type": "markdown",
   "metadata": {},
   "source": [
    "<h4>Análisis experimental</h4>\n",
    "Ahora vamos a analizar el comportamiento del algoritmo cuando el tamaño de la entrada varía. La siguiente función genera arreglos al azar de tamaño 1 a n, llama la función acct_insertion_sort(l, acct) y contabiliza el número de pasos."
   ]
  },
  {
   "cell_type": "code",
   "execution_count": 13,
   "metadata": {
    "collapsed": true
   },
   "outputs": [],
   "source": [
    "import random as rnd\n",
    "\n",
    "def exper_analysis(n):\n",
    "    results = []\n",
    "    acct = Counter()\n",
    "    for i in range(n):\n",
    "        l = range(i)\n",
    "        rnd.shuffle(l)\n",
    "        acct.reset()\n",
    "        acct_insertion_sort(l, acct)\n",
    "        results.append(acct.steps)\n",
    "    return results"
   ]
  },
  {
   "cell_type": "code",
   "execution_count": 14,
   "metadata": {
    "collapsed": false
   },
   "outputs": [
    {
     "name": "stdout",
     "output_type": "stream",
     "text": [
      "[2, 2, 8, 17, 32, 29, 53, 65, 71, 107]\n"
     ]
    }
   ],
   "source": [
    "print exper_analysis(10)"
   ]
  },
  {
   "cell_type": "code",
   "execution_count": 17,
   "metadata": {
    "collapsed": false
   },
   "outputs": [
    {
     "data": {
      "text/plain": [
       "[<matplotlib.lines.Line2D at 0x7f1990de8110>]"
      ]
     },
     "execution_count": 17,
     "metadata": {},
     "output_type": "execute_result"
    },
    {
     "data": {
      "image/png": "[encoded data removed]",
      "text/plain": [
       "<matplotlib.figure.Figure at 0x7f1990ed1090>"
      ]
     },
     "metadata": {},
     "output_type": "display_data"
    }
   ],
   "source": [
    "pl.clf()\n",
    "x = np.arange(100)\n",
    "y = np.array(exper_analysis(100))\n",
    "pl.plot(x, y, 'k.')"
   ]
  },
  {
   "cell_type": "markdown",
   "metadata": {},
   "source": [
    "#Actividad\n",
    " <ol>\n",
    "  <li>En una sola gráfica represente el número de operaciones, tiempo y T(n) que el algoritmo de ordenamiento por inserción requiere para ordenar arreglos de tamaño n (varie n) en el peor de los casos.</li>\n",
    "  <li>Replique los ejercicios realizados en este taller para el algoritmo de ordenamiento por mezclas (merge sort)</li>\n",
    "  <li>Replique los ejercicios realizados en este taller para el algoritmo de ordenamiento quick-sort</li>\n",
    "</ol> "
   ]
  },
  {
   "cell_type": "code",
   "execution_count": 50,
   "metadata": {
    "collapsed": false
   },
   "outputs": [],
   "source": [
    "#Punto1"
   ]
  },
  {
   "cell_type": "code",
   "execution_count": 8,
   "metadata": {
    "collapsed": false
   },
   "outputs": [
    {
     "name": "stdout",
     "output_type": "stream",
     "text": [
      "Analisis experimental para el numero de pasos: \n",
      "[2, 2, 8, 20, 29, 47, 47, 62, 113, 95]\n",
      "Analisis experimental para el tiempo de ejecucion: \n",
      "[1.09999999997612e-05, 2.000000000279556e-06, 8.000000000230045e-06, 2.0000000000131024e-05, 2.9000000000500847e-05, 2.4999999999941735e-05, 4.000000000026205e-05, 3.300000000017178e-05, 5.100000000002325e-05, 7.300000000043383e-05]\n",
      "Las operaciones se representan con la linea amarilla, el tiempo con la verde, y el T(n) por la azul:\n"
     ]
    },
    {
     "data": {
      "image/png": "[encoded data removed]",
      "text/plain": [
       "<matplotlib.figure.Figure at 0x7ff0ba16e650>"
      ]
     },
     "metadata": {},
     "output_type": "display_data"
    }
   ],
   "source": [
    "import math\n",
    "import numpy as np\n",
    "import pylab as pl\n",
    "import time \n",
    "import random \n",
    "\n",
    "class Counter:\n",
    "    '''\n",
    "    Class Counter\n",
    "    Implements a step counter, which is used to compute the number of basic operations performed in\n",
    "    a particular call to a function.\n",
    "    '''\n",
    "    def __init__(self):\n",
    "        self.steps = 0\n",
    "\n",
    "    def reset(self):\n",
    "        self.steps = 0\n",
    "\n",
    "    def count(self):\n",
    "        self.steps += 1\n",
    "\n",
    "    def print_steps(self):\n",
    "        print \"Number of steps =\", self.steps\n",
    "        \n",
    "        \n",
    "def acct_insertion_sort(A, acct):\n",
    "    j = 1; acct.count()\n",
    "    acct.count()\n",
    "    while j < len(A):\n",
    "        acct.count()\n",
    "        key = A[j]; acct.count()\n",
    "        i = j - 1; acct.count()\n",
    "        acct.count()\n",
    "        while (i >= 0) and (A[i] > key):\n",
    "            acct.count()\n",
    "            A[i + 1] = A[i]; acct.count()\n",
    "            i = i -1; acct.count()\n",
    "        A[i + 1] = key; acct.count()\n",
    "        j = j + 1; acct.count()\n",
    "        \n",
    "import random as rnd\n",
    "\n",
    "print (\"Analisis experimental para el numero de pasos: \")\n",
    "\n",
    "def exper_analysis(n):\n",
    "    results = []\n",
    "    acct = Counter()\n",
    "    for i in range(n):\n",
    "        l = range(i)\n",
    "        rnd.shuffle(l)\n",
    "        acct.reset()\n",
    "        acct_insertion_sort(l, acct)\n",
    "        results.append(acct.steps)\n",
    "    return results\n",
    "\n",
    "print exper_analysis(10)\n",
    "\n",
    "print (\"Analisis experimental para el tiempo de ejecucion: \")\n",
    "\n",
    "def exper_analysis_time(n):\n",
    "    results = []\n",
    "    acct = Counter()\n",
    "    for i in range(n):\n",
    "        l = range(i)\n",
    "        rnd.shuffle(l)\n",
    "        acct.reset()\n",
    "        tic=time.clock()\n",
    "        acct_insertion_sort(l, acct)\n",
    "        toc=time.clock()\n",
    "        tictoc=toc-tic\n",
    "        results.append(tictoc)\n",
    "    return results\n",
    "\n",
    "print exper_analysis_time(10)\n",
    "\n",
    "print (\"Las operaciones se representan con la linea amarilla, el tiempo con la verde, y el T(n) por la azul:\")\n",
    "\n",
    "import pylab \n",
    "import math\n",
    "pylab.clf()\n",
    "\n",
    "a = np.arange(100)\n",
    "b = np.array(exper_analysis(100))\n",
    "\n",
    "x = np.arange(100)\n",
    "y = np.array(exper_analysis_time(100))*800000\n",
    "\n",
    "c = np.arange(100)\n",
    "d = (c*c)\n",
    "\n",
    "pylab.plot(a,b,'y-',c,d,'b.',x, y, 'g-',)\n",
    "pylab.show()"
   ]
  },
  {
   "cell_type": "code",
   "execution_count": 5,
   "metadata": {
    "collapsed": true
   },
   "outputs": [],
   "source": [
    "#Punto2"
   ]
  },
  {
   "cell_type": "code",
   "execution_count": 6,
   "metadata": {
    "collapsed": true
   },
   "outputs": [],
   "source": [
    "import time\n",
    "tic = time.clock()#get start time\n",
    "toc = time.clock()#get final time"
   ]
  },
  {
   "cell_type": "code",
   "execution_count": 9,
   "metadata": {
    "collapsed": false
   },
   "outputs": [
    {
     "name": "stdout",
     "output_type": "stream",
     "text": [
      "[1, 20, 29, 33, 44, 55, 56, 77, 83]\n",
      "Number of steps = 232\n",
      "('El tiempo de ejecucion del algoritmo fue: ', 0.00025399999999997647)\n",
      "Analisis experimental para el numero de pasos: \n",
      "[0, 0, 21, 47, 72, 101, 135, 166, 197, 231]\n",
      "Analisis experimental para el tiempo: \n",
      "[1.9999999993913775e-06, 1.9999999993913775e-06, 1.100000000064938e-05, 1.5999999999571912e-05, 2.4999999999941735e-05, 3.499999999956316e-05, 8.799999999986596e-05, 6.699999999959516e-05, 0.00010500000000046583, 0.00014700000000011926]\n",
      "Las operaciones se representan con la linea amarilla, el tiempo con la verde, y el T(n) por la azul:\n"
     ]
    },
    {
     "data": {
      "image/png": "[encoded data removed]",
      "text/plain": [
       "<matplotlib.figure.Figure at 0x7ff0ba3adf90>"
      ]
     },
     "metadata": {},
     "output_type": "display_data"
    }
   ],
   "source": [
    "import math\n",
    "import numpy as np\n",
    "import pylab as pl\n",
    "import time \n",
    "import random \n",
    "\n",
    "%matplotlib inline\n",
    "\n",
    "class Counter:\n",
    "    '''\n",
    "    Class Counter\n",
    "    Implements a step counter, which is used to compute the number of basic operations performed in\n",
    "    a particular call to a function.\n",
    "    '''\n",
    "    def __init__(self):\n",
    "        self.steps = 0\n",
    "\n",
    "    def reset(self):\n",
    "        self.steps = 0\n",
    "\n",
    "    def count(self):\n",
    "        self.steps += 1\n",
    "\n",
    "    def print_steps(self):\n",
    "        print \"Number of steps =\", self.steps\n",
    "\n",
    "def mergeSort(alist,acct):\n",
    "    if len(alist)>1:\n",
    "        acct.count()   \n",
    "        mid = len(alist)//2;acct.count()   \n",
    "        lefthalf = alist[:mid];acct.count()   \n",
    "        righthalf = alist[mid:];acct.count()   \n",
    "\n",
    "        mergeSort(lefthalf,acct);acct.count()   \n",
    "        mergeSort(righthalf,acct);acct.count()   \n",
    "\n",
    "        i=0;acct.count()   \n",
    "        j=0;acct.count()   \n",
    "        k=0;acct.count()   \n",
    "        acct.count()   \n",
    "        while i < len(lefthalf) and j < len(righthalf):\n",
    "            acct.count()   \n",
    "            if lefthalf[i] < righthalf[j]:\n",
    "                acct.count()   \n",
    "                alist[k]=lefthalf[i];acct.count()   \n",
    "                i=i+1;acct.count()   \n",
    "            else:\n",
    "                acct.count()   \n",
    "                alist[k]=righthalf[j];acct.count()   \n",
    "                j=j+1;acct.count()   \n",
    "            k=k+1;acct.count()   \n",
    "        acct.count()   \n",
    "        while i < len(lefthalf):\n",
    "            acct.count()   \n",
    "            alist[k]=lefthalf[i];acct.count()   \n",
    "            i=i+1;acct.count()   \n",
    "            k=k+1;acct.count()   \n",
    "        acct.count()   \n",
    "        while j < len(righthalf):\n",
    "            acct.count()   \n",
    "            alist[k]=righthalf[j];acct.count()   \n",
    "            j=j+1;acct.count()   \n",
    "            k=k+1;acct.count()\n",
    "    \n",
    "   \n",
    "lista = [1,56,33,44,77,29,83,55,20]\n",
    "acct = Counter()\n",
    "tic = time.clock()\n",
    "mergeSort(lista,acct)\n",
    "toc = time.clock()\n",
    "tictoc=toc-tic\n",
    "print (lista)\n",
    "acct.print_steps()\n",
    "print(\"El tiempo de ejecucion del algoritmo fue: \",tictoc)\n",
    "\n",
    "print (\"Analisis experimental para el numero de pasos: \")\n",
    "\n",
    "def exper_analysis(n):\n",
    "    results = []\n",
    "    acct = Counter()\n",
    "    for i in range(n):\n",
    "        l = list(range(i))\n",
    "        random.shuffle(l)\n",
    "        acct.reset()\n",
    "        mergeSort(l,acct)\n",
    "        results.append(acct.steps)\n",
    "    return results\n",
    "\n",
    "print (exper_analysis(10))\n",
    "\n",
    "print(\"Analisis experimental para el tiempo: \")\n",
    "\n",
    "import time\n",
    "def exper_analysis_time(n):\n",
    "    results = []\n",
    "    acct = Counter()\n",
    "    for i in range(n):\n",
    "        l = list(range(i))\n",
    "        random.shuffle(l)\n",
    "        acct.reset()\n",
    "        tic = time.clock()\n",
    "        mergeSort(l,acct)\n",
    "        toc = time.clock()\n",
    "        results.append((toc-tic))\n",
    "    return results\n",
    "print (exper_analysis_time(10))\n",
    "\n",
    "print (\"Las operaciones se representan con la linea amarilla, el tiempo con la verde, y el T(n) por la azul:\")\n",
    "\n",
    "import pylab  \n",
    "import math\n",
    "import numpy as np\n",
    "pylab.clf()\n",
    "\n",
    "a = np.arange(100)\n",
    "b = np.array(exper_analysis(100))\n",
    "\n",
    "x = np.arange(100)\n",
    "y = np.array(exper_analysis_time(100))*100000\n",
    "\n",
    "c = np.arange(1,100)\n",
    "d = c*(np.log(c))*2\n",
    "\n",
    "pylab.plot(a,b,'y-',c,d,'b-',x, y, 'g--')\n",
    "pylab.show()"
   ]
  },
  {
   "cell_type": "code",
   "execution_count": 53,
   "metadata": {
    "collapsed": true
   },
   "outputs": [],
   "source": [
    "#Punto3"
   ]
  },
  {
   "cell_type": "code",
   "execution_count": 10,
   "metadata": {
    "collapsed": false
   },
   "outputs": [
    {
     "name": "stdout",
     "output_type": "stream",
     "text": [
      "[0 1 2 3 4 5 6 7 8 9]\n",
      "Number of steps = 150\n",
      "('El tiempo de ejecucion del algoritmo fue: ', 0.0021279999999990196)\n",
      "Analisis experimental para el numero de pasos: \n",
      "[0, 0, 16, 23, 51, 58, 67, 97, 101, 120]\n",
      "Analisis experimental para el tiempo: \n",
      "[3.999999998782755e-06, 2.1000000000270802e-05, 2.200000000129876e-05, 4.500000000007276e-05, 4.6000000001100716e-05, 9.000000000014552e-05, 9.700000000023579e-05, 0.00010900000000013677, 0.00011600000000022703, 0.00015900000000002024]\n",
      "Las operaciones se representan con la linea amarilla, el tiempo con la verde, y el T(n) por la azul:\n"
     ]
    },
    {
     "data": {
      "image/png": "[encoded data removed]",
      "text/plain": [
       "<matplotlib.figure.Figure at 0x7ff0b9fd62d0>"
      ]
     },
     "metadata": {},
     "output_type": "display_data"
    }
   ],
   "source": [
    "import math\n",
    "\n",
    "import numpy as np\n",
    "import pylab as pl\n",
    "%matplotlib inline\n",
    "import time\n",
    "\n",
    "\n",
    "class Counter:\n",
    "    '''\n",
    "    Class Counter\n",
    "    Implements a step counter, which is used to compute the number of basic operations performed in\n",
    "    a particular call to a function.\n",
    "    '''\n",
    "    def __init__(self):\n",
    "        self.steps = 0\n",
    "\n",
    "    def reset(self):\n",
    "        self.steps = 0\n",
    "\n",
    "    def count(self):\n",
    "        self.steps += 1\n",
    "\n",
    "    def print_steps(self):\n",
    "        print \"Number of steps =\", self.steps\n",
    "\n",
    "\n",
    "def quickSort(alist,acct):\n",
    "    quickSortHelper(alist,0,len(alist)-1,acct)\n",
    "\n",
    "def quickSortHelper(alist,first,last,acct):\n",
    "    if first<last:\n",
    "        acct.count()\n",
    "        splitpoint = partition(alist,first,last,acct) ; acct.count()\n",
    "\n",
    "        quickSortHelper(alist,first,splitpoint-1,acct); acct.count()\n",
    "        quickSortHelper(alist,splitpoint+1,last,acct); acct.count()\n",
    "    \n",
    "\n",
    "def partition(alist,first,last,acct):\n",
    "    pivotvalue = alist[first]; acct.count()\n",
    "\n",
    "    leftmark = first+1; acct.count()\n",
    "    rightmark = last; acct.count()\n",
    "\n",
    "    done = False; acct.count()\n",
    "    while not done:\n",
    "        acct.count()\n",
    "        while leftmark <= rightmark and alist[leftmark] <= pivotvalue:\n",
    "            leftmark = leftmark + 1 ; acct.count()\n",
    "        acct.count()\n",
    "        while alist[rightmark] >= pivotvalue and rightmark >= leftmark:\n",
    "            rightmark = rightmark -1 ; acct.count()\n",
    "\n",
    "        if rightmark < leftmark:\n",
    "            acct.count()\n",
    "            done = True; acct.count()\n",
    "        else:\n",
    "            acct.count()\n",
    "            temp = alist[leftmark]; acct.count()\n",
    "            alist[leftmark] = alist[rightmark]; acct.count()\n",
    "            alist[rightmark] = temp; acct.count()\n",
    "\n",
    "    temp = alist[first]; acct.count()\n",
    "    alist[first] = alist[rightmark]; acct.count()\n",
    "    alist[rightmark] = temp; acct.count()\n",
    "\n",
    "\n",
    "    return rightmark; acct.count()\n",
    "\n",
    "B = np.random.permutation(range(0,10))\n",
    "acct = Counter()\n",
    "tic = time.clock()\n",
    "quickSort(B, acct)\n",
    "print (B)\n",
    "toc= time.clock()\n",
    "tictoc=toc-tic\n",
    "acct.print_steps()\n",
    "print(\"El tiempo de ejecucion del algoritmo fue: \",tictoc)\n",
    "\n",
    "print (\"Analisis experimental para el numero de pasos: \")\n",
    "\n",
    "import random as rnd\n",
    "\n",
    "def exper_analysis(n):\n",
    "    results = []\n",
    "    acct = Counter()\n",
    "    for i in range(n):\n",
    "        l = range(i)\n",
    "        rnd.shuffle(l)\n",
    "        acct.reset()\n",
    "        quickSort(l, acct)\n",
    "        results.append(acct.steps)\n",
    "    return results\n",
    "\n",
    "print exper_analysis(10)\n",
    "\n",
    "print(\"Analisis experimental para el tiempo: \")\n",
    "\n",
    "def exper_analysis_time(n):\n",
    "    results = []\n",
    "    acct = Counter()\n",
    "    for i in range(n):\n",
    "        l = range(i)\n",
    "        rnd.shuffle(l)\n",
    "        acct.reset()\n",
    "        tictoc2=0\n",
    "        tic2=time.clock()\n",
    "        quickSort(l, acct)\n",
    "        toc2=time.clock()\n",
    "        tictoc2=toc2-tic2\n",
    "        results.append(tictoc2)\n",
    "    return results;\n",
    "\n",
    "print exper_analysis_time(10)\n",
    "\n",
    "print (\"Las operaciones se representan con la linea amarilla, el tiempo con la verde, y el T(n) por la azul:\")\n",
    "\n",
    "import pylab  \n",
    "import math\n",
    "import numpy as np\n",
    "pylab.clf()\n",
    "\n",
    "\n",
    "a = np.arange(100)\n",
    "b = np.array(exper_analysis(100))\n",
    "\n",
    "x = np.arange(100)\n",
    "y = np.array(exper_analysis_time(100))*800000\n",
    "\n",
    "c = np.arange(100)\n",
    "d = (c*c)\n",
    "\n",
    "pylab.plot(a,b,'y-',c,d,'b.',x, y, 'g-')\n",
    "pylab.show()\n"
   ]
  },
  {
   "cell_type": "code",
   "execution_count": null,
   "metadata": {
    "collapsed": true
   },
   "outputs": [],
   "source": []
  }
 ],
 "metadata": {
  "anaconda-cloud": {},
  "kernelspec": {
   "display_name": "Python 2",
   "language": "python",
   "name": "python2"
  },
  "language_info": {
   "codemirror_mode": {
    "name": "ipython",
    "version": 2
   },
   "file_extension": ".py",
   "mimetype": "text/x-python",
   "name": "python",
   "nbconvert_exporter": "python",
   "pygments_lexer": "ipython2",
   "version": "2.7.12"
  }
 },
 "nbformat": 4,
 "nbformat_minor": 0
}
