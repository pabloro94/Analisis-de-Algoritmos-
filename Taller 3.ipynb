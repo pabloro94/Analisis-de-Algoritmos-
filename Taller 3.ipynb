{
 "cells": [
  {
   "cell_type": "code",
   "execution_count": 8,
   "metadata": {
    "collapsed": false
   },
   "outputs": [
    {
     "name": "stdout",
     "output_type": "stream",
     "text": [
      "('La maxima suma consecutiva es: ', 7)\n"
     ]
    }
   ],
   "source": [
    "#1 \n",
    "def max_consecutive_sum(arr):\n",
    "    n=len(arr)\n",
    "    suma_maxima=0\n",
    "    j=0\n",
    "    for i in range(n):\n",
    "        suma=0\n",
    "        for j in range(n-i):\n",
    "            suma+=arr[j+i]\n",
    "            if suma>suma_maxima:\n",
    "                suma_maxima=suma      \n",
    "    return (suma_maxima)\n",
    "    \n",
    "a = [-2, -3, 4, -1, -2, 1, 5, -3];\n",
    "print(\"La maxima suma consecutiva es: \", max_consecutive_sum(a))"
   ]
  },
  {
   "cell_type": "code",
   "execution_count": 8,
   "metadata": {
    "collapsed": false
   },
   "outputs": [
    {
     "name": "stdout",
     "output_type": "stream",
     "text": [
      "('La maxima suma consecutiva es: ', 21)\n"
     ]
    }
   ],
   "source": [
    "#2\n",
    "def maximum_contiguousuma_divideconquer(arr, leftl,rightl):\n",
    "    if rightl<=leftl:\n",
    "        return arr[leftl]\n",
    "    else:\n",
    "        mid = (leftl+rightl)//2\n",
    "        a=maximum_contiguousuma_divideconquer(arr,leftl,mid)\n",
    "        b=maximum_contiguousuma_divideconquer(arr,mid+1,rightl)\n",
    "        valor=0\n",
    "        suma=0\n",
    "        for i in range(mid,leftl-1,-1):\n",
    "            suma+=arr[i]\n",
    "            if suma>valor:\n",
    "                valor=suma\n",
    "        valor_resultante=-100\n",
    "        suma=0\n",
    "        for i in range(rightl-mid):\n",
    "            suma=suma+arr[i+mid+1]\n",
    "            if suma>valor_resultante:\n",
    "                valor_resultante=suma\n",
    "\n",
    "        c=(valor+valor_resultante);\n",
    "        \n",
    "        if a>=b and a>=c:\n",
    "            return a\n",
    "        else:\n",
    "            if b>=a and b>=c:\n",
    "                return b\n",
    "            else:\n",
    "                return c\n",
    "\n",
    "a = [2, 3, 4, 5, 7];    \n",
    "print(\"La maxima suma consecutiva es: \", maximum_contiguousuma_divideconquer(a,0,len(a)-1))"
   ]
  },
  {
   "cell_type": "code",
   "execution_count": 1,
   "metadata": {
    "collapsed": false
   },
   "outputs": [
    {
     "name": "stdout",
     "output_type": "stream",
     "text": [
      "('La maxima suma consecutiva es: ', 21)\n"
     ]
    }
   ],
   "source": [
    "#3\n",
    "def Sumamax3(a, first, last):\n",
    "    #Base\n",
    "    if first > last:\n",
    "        return 0\n",
    "    if first == last:\n",
    "        return max(0, a[first])\n",
    "    mid = (first+last)/2\n",
    "    \n",
    "    #1,2\n",
    "    max_aux = max(Sumamax3(a, first, mid), Sumamax3(a, mid+1, last))\n",
    "    \n",
    "    #Casos 3 por izquierda\n",
    "    left_max = 0\n",
    "    suma = 0\n",
    "    for i in range(mid, first-1, -1):\n",
    "        suma = suma + a[i]\n",
    "        left_max = max(left_max, suma)\n",
    "        \n",
    "    #Caso 3 por derecha\n",
    "    right_max = 0\n",
    "    suma = 0\n",
    "    for i in range(mid+1, last+1):\n",
    "        suma = suma+a[i]\n",
    "        right_max = max(right_max, suma)\n",
    "    \n",
    "    #Resultados\n",
    "    return max(right_max+left_max, max_aux)\n",
    "\n",
    "a = [2, 3, 4, 5, 7];    \n",
    "print(\"La maxima suma consecutiva es: \", Sumamax3(a, 0, len(a)-1))"
   ]
  },
  {
   "cell_type": "code",
   "execution_count": null,
   "metadata": {
    "collapsed": true
   },
   "outputs": [],
   "source": []
  }
 ],
 "metadata": {
  "kernelspec": {
   "display_name": "Python 2",
   "language": "python",
   "name": "python2"
  },
  "language_info": {
   "codemirror_mode": {
    "name": "ipython",
    "version": 2
   },
   "file_extension": ".py",
   "mimetype": "text/x-python",
   "name": "python",
   "nbconvert_exporter": "python",
   "pygments_lexer": "ipython2",
   "version": "2.7.12"
  }
 },
 "nbformat": 4,
 "nbformat_minor": 1
}
