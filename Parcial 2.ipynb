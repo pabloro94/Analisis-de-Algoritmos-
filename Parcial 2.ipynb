{
 "cells": [
  {
   "cell_type": "markdown",
   "metadata": {},
   "source": [
    "# Punto 1"
   ]
  },
  {
   "cell_type": "code",
   "execution_count": null,
   "metadata": {
    "collapsed": false
   },
   "outputs": [],
   "source": [
    "Operación                  Z       Costo    Total\n",
    "Inicialización         algorithm     0        0\n",
    "Derecha                algorithm     0        0\n",
    "Derecha                algorithm     0        0\n",
    "reemplazar (por n)     angorithm     4        4\n",
    "reemplazar (por a)     anaorithm     4        8\n",
    "reemplazar (por l)     analrithm     4        12\n",
    "Reemplazar (por y)     Analyithm     4        16\n",
    "Reemplazar (por s)     Analysthm     4        20\n",
    "Reemplazar (por i)     Analysihm     4        24\n",
    "Reemplazar (por s)     Analysism     4        28\n",
    "eliminar               analysis      2        30\n",
    "\n",
    "Operación                  z       Costo     Total\n",
    "Inicializacion          algorithm    0         0\n",
    "derecha                 algorithm    0         0\n",
    "derecha                 algorithm    0         0\n",
    "reemplazar (por n)      angorithm    4         4\n",
    "reemplazar (por a)      anaorithm    4         8\n",
    "reemplazar (por l)      analrithm    4         12\n",
    "Reemplazar (por y)      analyithm    4         16\n",
    "Insertar s              analysithm   3         19\n",
    "derecha                 analysithm   0         19\n",
    "Insertar s              analysisthm  3         22\n",
    "eliminar                analysishm   2         24\n",
    "eliminar                analysism    2         26\n",
    "eliminar                analysis     2         28 "
   ]
  },
  {
   "cell_type": "markdown",
   "metadata": {},
   "source": [
    "# Punto 2"
   ]
  },
  {
   "cell_type": "markdown",
   "metadata": {},
   "source": [
    "Argumentamos que hay una secuencia S que transforma x a y con coste d (x, y)\n",
    "Sin usar ninguna operación \"izquierda\" por contradicción. Supongamos que no existe tal secuencia S. Consideremos una secuencia S' que transforma x a y con coste d (x, y) que usa operaciones \"izquierdas\". Considere los caracteres insertados por las operaciones en S' . Si se inserta un carácter y luego se suprime más tarde, ambas operaciones pueden ser eliminadas de S'  para producir una secuencia S'' que produzca el mismo resultado a menor coste. Si se inserta un carácter a y luego se sustituye por un carácter b, entonces la operación de inserción se puede cambiar para insertar b y la operación de reemplazo se puede eliminar para producir una secuencia S'' que produce el mismo resultado a menor coste. Si un carácter es reemplazado por un carácter a y luego reemplazado de nuevo por un carácter b, ambas operaciones pueden ser reemplazadas por \"replace b\". Esto significa que todos los caracteres insertados y reemplazados nunca se cambian después de realizar la inserción o sustitución. Observe que después de eliminar estas operaciones que introducen dependencias, cualquier secuencia de insertar, eliminar y reemplazar operaciones puede ser reordenada para que se produzcan de izquierda a derecha sin afectar el resultado de la transformación.\n"
   ]
  },
  {
   "cell_type": "markdown",
   "metadata": {},
   "source": [
    "#  Punto 3"
   ]
  },
  {
   "cell_type": "markdown",
   "metadata": {},
   "source": [
    "Se muestra que la distancia de edición de cálculo para las cadenas x y y puede hacerse encontrando la distancia de edicion de los subproblemas. Definir el costo de la funcion  \n",
    "\n",
    "C xy (i, j) = d (x, y [1 ..i] ‖x [j + 1 ..m]) \n",
    "\n",
    "Es decir, c xy (i, j) es el coste mínimo de transformar los primeros j caracteres de x en Los primeros i caracteres de y. Entonces d (x, y) = c xy (n, m). Ahora consideremos una secuencia de Operaciones S = (o 1 , o 2 , ..., o k ) que transforma x a y con coste C (S) = d (x, y). Sea S i la subsecuencia de S que contiene las primeras i operaciones de S. Sea zi la Cadena auxiliar después de realizar las operaciones S i , donde z 0 = x y z k = y. \n",
    "\n",
    "Teorema 1: Si C (S i ) = d (x, z i ) , entonces C (S i-1 ) = d (x, z i-1 ). \n",
    "\n",
    "Es decir, la solución óptima  d (x, z i ) contiene soluciones óptimas a subproblemas D (x, zi - 1 ). Probamos esta afirmación por contradicción usando cortar y pegar. Suponer que C (Si-1 }) \\ Z = D (x, zi - 1 ). Hay dos casos, C (S i-1 ) <d (x, zi-1 ) o C (Si-1 )> D (x, zi - 1). Si C <d (x, zi-1 ), entonces podemos transformar x a zi-1 usando las operaciones Si-1 Con menor coste que d (x, zi-1 ), lo cual es una contradicción. Si C (Si-1 )> d (x, zi-1 ), Entonces podríamos reemplazar Si-1 por la secuencia de operaciones S' que transforma x en I - 1 con coste d (x, zi - 1 ). Entonces la secuencia de operaciones S' ∪ oi transforma x a y Con coste C (S' ∪ oi ). \n",
    "\n",
    "    C (S' U oi ) = d (x, zi-1 ) + C (oi) \n",
    "                 < C (Si-1 }) + C (oi)  \n",
    "                 = C (Si ) \n",
    "                 = D (x, zi ) \n",
    "\n",
    "Esto significa que d (x, zi ) no es la distancia de edición entre x y z i , que es una contradicción. Por lo tanto, el teorema 1 es correcto y el problema de la distancia de edición muestra una óptima subestructura."
   ]
  },
  {
   "cell_type": "markdown",
   "metadata": {},
   "source": [
    "# Punto 4"
   ]
  },
  {
   "cell_type": "markdown",
   "metadata": {},
   "source": [
    "El valor (recurrencia) de $c(i,j) = $ al minimo de\n",
    " \n",
    " \n",
    " \n",
    "costo$(eliminar x[i]) + c(i + 1, j)$ si $i &lt; |x|$\n",
    " \n",
    "costo$(insertar y[j]) + c(i, j + 1)$ si $j &lt; |y|$\n",
    " \n",
    "costo$(reemplazar x[i] \\rightarrow y[j]) + c(i + 1, j + 1)$ si $i &lt; |x|$ & $j &lt; |y|$</ul>\n",
    " \n",
    "Caso Base: $c(|x|,|y|) = 0$\n",
    " \n",
    "Cada subproblema toma $O(1)$ en resolver\n"
   ]
  },
  {
   "cell_type": "markdown",
   "metadata": {},
   "source": [
    "# Punto 5"
   ]
  },
  {
   "cell_type": "markdown",
   "metadata": {},
   "source": [
    "Construya una tabla T donde cada entrada T [i, j] = cxy (i, j). Dado que cada valor de cxy (i, j) sólo depende de cxy (i, j ) donde i'<= i y j' <= j, podemos calcular las entradas de T fila por fila utilizando la ecuación 2:\n"
   ]
  },
  {
   "cell_type": "code",
   "execution_count": null,
   "metadata": {
    "collapsed": true
   },
   "outputs": [],
   "source": [
    "EDIT-DISTANCE (x[1..m], y[1..n])\n",
    "1 T[0, 0] <-- 0\n",
    "2 for i <-- 1 to n\n",
    "3   for j <-- 1 to m\n",
    "\n",
    "4     do T[i, j] <-- min { T[i − 1, j − 1] if i > 0 and j > 0 and x[i − 1] = y[j − 1] \n",
    "                           T[i − 1, j − 1] + 4 if i > 0 and j > 0 \n",
    "                           T[i − 1, j] + 2 if i > 0\n",
    "                           T[i, j − 1] + 3 if j > 0\n",
    "5 return T[n, m]"
   ]
  },
  {
   "cell_type": "markdown",
   "metadata": {},
   "source": [
    "\n",
    "El tiempo de ejecución de este algoritmo es O(mn). Este algoritmo requiere O(mn) espacio."
   ]
  },
  {
   "cell_type": "markdown",
   "metadata": {},
   "source": [
    "# Punto 6"
   ]
  },
  {
   "cell_type": "code",
   "execution_count": 8,
   "metadata": {
    "collapsed": true
   },
   "outputs": [],
   "source": [
    "import math\n",
    "import numpy as np\n",
    "import pylab as pl\n",
    "import time \n",
    "import random \n",
    "\n",
    "def distance(str1, str2):\n",
    "  d=dict()\n",
    "  for i in range(len(str1)+1):\n",
    "     d[i]=dict()\n",
    "     d[i][0]=i\n",
    "  for i in range(len(str2)+1):\n",
    "     d[0][i] = i\n",
    "  for i in range(1, len(str1)+1):\n",
    "     for j in range(1, len(str2)+1):\n",
    "        d[i][j] = min(d[i][j-1]+1, d[i-1][j]+1, d[i-1][j-1]+(not str1[i-1] == str2[j-1]))\n",
    "  return d[len(str1)][len(str2)]"
   ]
  },
  {
   "cell_type": "code",
   "execution_count": 9,
   "metadata": {
    "collapsed": false
   },
   "outputs": [
    {
     "data": {
      "text/plain": [
       "16"
      ]
     },
     "execution_count": 9,
     "metadata": {},
     "output_type": "execute_result"
    }
   ],
   "source": [
    "cadena1 = \"software engineering\"\n",
    "cadena2= \"computer science\"\n",
    "distance(cadena1,cadena2)"
   ]
  },
  {
   "cell_type": "code",
   "execution_count": 10,
   "metadata": {
    "collapsed": false
   },
   "outputs": [
    {
     "data": {
      "image/png": "[encoded data removed]",
      "text/plain": [
       "<matplotlib.figure.Figure at 0x291c8d0>"
      ]
     },
     "metadata": {},
     "output_type": "display_data"
    }
   ],
   "source": [
    "import math\n",
    "import numpy as np\n",
    "import pylab as pl\n",
    "import time \n",
    "import random\n",
    "import pylab\n",
    "\n",
    "def exper_analysis_time(n):\n",
    "    results = []\n",
    "    for i in range(n):\n",
    "        l = range(i)\n",
    "        tic=time.clock()\n",
    "        distance(cadena1,cadena2)\n",
    "        toc=time.clock()\n",
    "        tictoc=toc-tic\n",
    "        results.append(tictoc)\n",
    "    return results\n",
    "\n",
    "pylab.clf()\n",
    "x = np.arange(100)\n",
    "y = np.array(exper_analysis_time(100))*800000\n",
    "\n",
    "pylab.plot(x, y, 'r',)\n",
    "pylab.show()"
   ]
  },
  {
   "cell_type": "markdown",
   "metadata": {},
   "source": [
    "# Punto 7"
   ]
  },
  {
   "cell_type": "markdown",
   "metadata": {},
   "source": [
    "Primer Archivo"
   ]
  },
  {
   "cell_type": "code",
   "execution_count": 11,
   "metadata": {
    "collapsed": false
   },
   "outputs": [
    {
     "data": {
      "text/plain": [
       "535"
      ]
     },
     "execution_count": 11,
     "metadata": {},
     "output_type": "execute_result"
    }
   ],
   "source": [
    "cadena3 =\"In fairy-tales, witches always wear silly black hats and black cloaks, and they ride on broomsticks.  But this is not a fairy-tale. This is about Real Witches.  The most important thing you should know about Real Witches is this.  Listen very carefully.  Never forget what is coming next.  Real Witches dress in ordinary clothes and look very much like ordinary women. They live in ordinary houses and work in Ordinary Jobs.  That is why they are so hard to catch.  A Real Witch hates children with a red-hot sizzling hatred that is more sizzling and red-hot than any hatred you could possibly imagine.\"\n",
    "cadena4= \"Round about the caldron go; In the poison'd entrails throw.  Toad, that under cold stone, Days and nights has thirty-one; Swelter'd venom sleeping got, Boil thou first i' the charmed pot!  Double, double toil and trouble; Fire burn, and cauldron bubble.  Fillet of a fenny snake, In the caldron boil and bake; Eye of newt, and toe of frog, Wool of bat, and tongue of dog; Adder's fork, and blind-worm's sting, Lizard's leg, and howlet's wing; For a charm of pow'rful trouble, Like a hell-broth boil and bubble.  Double, double toil and trouble; Fire burn, and cauldron bubble.  Scale of dragon, tooth of wolf, Witches' mummy, maw and gulf Of the ravin'd salt-sea shark; Root of hemlock digg'd i' the dark.\"\n",
    "distance(cadena3,cadena4)"
   ]
  },
  {
   "cell_type": "markdown",
   "metadata": {},
   "source": [
    "Segundo Archivo\n"
   ]
  },
  {
   "cell_type": "code",
   "execution_count": 13,
   "metadata": {
    "collapsed": false
   },
   "outputs": [
    {
     "data": {
      "text/plain": [
       "553"
      ]
     },
     "execution_count": 13,
     "metadata": {},
     "output_type": "execute_result"
    }
   ],
   "source": [
    "cadena5 = \"Macavity, Macavity, there's no one like Macavity, He's broken every  human law, he breaks the law of gravity.  His powers of levitation  would make a fakir stare, And when you reach the scene of crime -  Macavity's not there!  You may seek him in the basement, you may look  up in the air - But I tell you once and once again, Macavity's not there!  Macavity's a ginger cat, he's very tall and thin; You would know him if you saw him, for his eyes are sunken in.  His brow is deeply lined with thought, his head is highly domed; His coat is dusty from neglect, his whiskers are uncombed.  He sways his head from side to side, with movements like a snake; And when you think he's half asleep, he's always wide awake.\"\n",
    "cadena6 = \"Please would you tell me,' said Alice, a little timidly, for she was not quite sure whether it was good manners for her to speak first, `why your cat grins like that?' `It's a Cheshire cat,' said the Duchess, `and that's why. Pig!'  She said the last word with such sudden violence that Alice quite jumped; but she saw in another moment that it was addressed to the baby, and not to her, so she took courage, and went on again:  `I didn't know that Cheshire cats always grinned; in fact, I didn't know that cats could grin.'  `They all can,' said the Duchess; `and most of 'em do.'  `I don't know of any that do,' Alice said very politely, feeling quite pleased to have got into a conversation.\"\n",
    "distance(cadena5,cadena6)"
   ]
  },
  {
   "cell_type": "markdown",
   "metadata": {},
   "source": [
    "Tercer Archivo "
   ]
  },
  {
   "cell_type": "code",
   "execution_count": 16,
   "metadata": {
    "collapsed": false
   },
   "outputs": [
    {
     "data": {
      "text/plain": [
       "551"
      ]
     },
     "execution_count": 16,
     "metadata": {},
     "output_type": "execute_result"
    }
   ],
   "source": [
    "cadena7 = \"Old MacDonald had a farm, Ee i ee i o.  And on his farm he had some chicks, Ee i ee i o.  With a cluck-cluck here and a cluck-cluck there.  Here a cluck, there a cluck everywhere a cluck-cluck. Old MacDonald had a farm, Ee i ee i o.  Old MacDonald had a farm, Ee i ee i o.  And on his farm he had some cows, Ee i ee i o.  With a moo-moo here and a moo-moo there.  Here a moo, there a moo everywhere a moo-moo.  Old MacDonald had a farm, Ee i ee i o.\"\n",
    "cadena8 = \"At one end of the big barn, on a sort of raised platform, Major was already ensconced on his bed of straw, under a lantern which hung from a beam. He was twelve years old and had lately grown rather stout, but he was still a majestic-looking pig, with a wise and benevolent appearance in spite of the fact that his tushes had never been cut.  Before long the other animals began to arrive and make themselves comfortable after their different fashions.  First came the three dogs, Bluebell, Jessie, and Pincher, and then the pigs, who settled down in the straw immediately in front of the platform.  The hens perched themselves on the window-sills, the pigeons fluttered up to the rafters, the sheep and cows lay down behind the pigs and began to chew the cud.\"\n",
    "distance(cadena7,cadena8)"
   ]
  }
 ],
 "metadata": {
  "anaconda-cloud": {},
  "kernelspec": {
   "display_name": "Python [conda root]",
   "language": "python",
   "name": "conda-root-py"
  },
  "language_info": {
   "codemirror_mode": {
    "name": "ipython",
    "version": 2
   },
   "file_extension": ".py",
   "mimetype": "text/x-python",
   "name": "python",
   "nbconvert_exporter": "python",
   "pygments_lexer": "ipython2",
   "version": "2.7.12"
  }
 },
 "nbformat": 4,
 "nbformat_minor": 1
}
