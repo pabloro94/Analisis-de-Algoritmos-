{
 "cells": [
  {
   "cell_type": "code",
   "execution_count": 1,
   "metadata": {
    "collapsed": false
   },
   "outputs": [
    {
     "data": {
      "text/plain": [
       "'BCBA'"
      ]
     },
     "execution_count": 1,
     "metadata": {},
     "output_type": "execute_result"
    }
   ],
   "source": [
    "#Punto 1\n",
    "\n",
    "def lcs(a, b):\n",
    "    lengths = [[0 for j in range(len(b)+1)] for i in range(len(a)+1)]\n",
    "    # row 0 and column 0 are initialized to 0 already\n",
    "    for i, x in enumerate(a):\n",
    "        for j, y in enumerate(b):\n",
    "            if x == y:\n",
    "                lengths[i+1][j+1] = lengths[i][j] + 1\n",
    "            else:\n",
    "                lengths[i+1][j+1] = max(lengths[i+1][j], lengths[i][j+1])\n",
    "    # read the substring out from the matrix\n",
    "    result = \"\"\n",
    "    x, y = len(a), len(b)\n",
    "    while x != 0 and y != 0:\n",
    "        if lengths[x][y] == lengths[x-1][y]:\n",
    "            x -= 1\n",
    "        elif lengths[x][y] == lengths[x][y-1]:\n",
    "            y -= 1\n",
    "        else:\n",
    "            assert a[x-1] == b[y-1]\n",
    "            result = a[x-1] + result\n",
    "            x -= 1\n",
    "            y -= 1\n",
    "    return result\n",
    "\n",
    "lcs('ABCBDAB','BDCABA')\n"
   ]
  },
  {
   "cell_type": "code",
   "execution_count": 1,
   "metadata": {
    "collapsed": false
   },
   "outputs": [
    {
     "name": "stdout",
     "output_type": "stream",
     "text": [
      "('El minimo costo de edicion es:', 7)\n"
     ]
    }
   ],
   "source": [
    "# Programa recurviso para encontrar el minimo numero\n",
    "# Operaciones para la conversion del string1 y string2\n",
    "def editDistance( str1, str2, m , n):\n",
    " \n",
    "    # Si el primer string es vacio, la unica solucion es\n",
    "    # insertar todos los caracteres del segundo string en el primero\n",
    "    if m==0:\n",
    "         return n\n",
    " \n",
    "    # Si el segundo string es vacio, la unica solucion es remover todos los caracteres del primer String\n",
    "    if n==0:\n",
    "        return m\n",
    " \n",
    "    # Si los ultimos caracteres de las dos cadenas son iguales,\n",
    "    # No se puede hacer mucho. Ignorar los ultimos caracteres \n",
    "    # y sacar la cuenta para los strings restantes.\n",
    "    if str1[m-1]==str2[n-1]:\n",
    "        return editDistance(str1,str2,m-1,n-1)\n",
    " \n",
    "    # Si los ultimos caracteres no son iguales, se consideran tres\n",
    "    # operaciones (Insertar, remover, y remplazar) en el ultimo caracter de la primera cadena, \n",
    "    # recursivamente se calcula el costo computacional de cada una de las operaciones\n",
    "    # y se toma el menor valor de los tres.\n",
    "    return 1 + min(editDistance(str1, str2, m, n-1), editDistance(str1, str2, m-1, n),    editDistance(str1, str2, m-1, n-1))\n",
    "\n",
    "str1=\"Ejemplo\"\n",
    "str2=\"Prueba\"\n",
    "print (\"El minimo costo de edicion es:\", editDistance(str1, str2, len(str1), len(str2)))\n",
    "    "
   ]
  },
  {
   "cell_type": "markdown",
   "metadata": {
    "collapsed": true
   },
   "source": [
    "#3\n",
    "\n",
    "Llamaremos T[i,j] a la tarifa para ir del embarcadero i al j (directo). Estos valores\n",
    "se almacenarán en una matriz triangular superior de orden n, siendo n el número de\n",
    "embarcaderos.\n",
    "El problema puede resolverse mediante Programación Dinámica ya que para\n",
    "calcular el coste óptimo para ir del embarcadero i al j podemos hacerlo de forma\n",
    "recurrente, suponiendo que la primera parada la realizamos en un embarcadero\n",
    "intermedio k (i < k ≤ j):\n",
    "C(i,j) = T(i,k) + C(k,j).\n",
    "En esta ecuación se contempla el viaje directo, que corresponde al caso en el\n",
    "que k coincide con j. Esta ecuación verifica también que la solución buscada C(i,j)\n",
    "satisface el principio del óptimo, pues el coste C(k,j), que forma parte de la\n",
    "solución, ha de ser, a su vez, óptimo. Podemos plantear entonces la siguiente expresión de la solución:\n",
    "\n",
    "C (i,j) = { 0 si i=j \n",
    "            \n",
    "      Min{T(i,k) + C(k,j)} si i<j\n",
    "            \n",
    "La idea de esta segunda expresión surge al observar que en cualquiera de los\n",
    "trayectos siempre existe un primer salto inicial óptimo.\n",
    "\n",
    "Para resolverla según la técnica de Programación Dinámica, hace falta utilizar\n",
    "una estructura para almacenar resultados intermedios y evitar la repetición de los\n",
    "cálculos. La estructura que usaremos es una matriz triangular de costes C[i,j], que\n",
    "iremos rellenando por diagonales mediante el procedimiento que hemos\n",
    "denominado Costes. La solución al problema es la propia tabla, y sus valores C[i,j]\n",
    "indican el coste óptimo para ir del embarcadero i al j.\n",
    "\n",
    "    CONST MAXEMBARCADEROS = ...;\n",
    "    TYPE MATRIZ=ARRAY[1..MAXEMBARCADEROS],[1..MAXEMBARCADEROS] OF CARDINAL;\n",
    "    PROCEDURE Costes(VAR C:MATRIZ;n:CARDINAL);\n",
    "    VAR i, diagonal:CARDINAL;\n",
    "    BEGIN\n",
    "    FOR i:=1 TO n DO C[i,i]:=0 END; (* condiciones iniciales *)\n",
    "    FOR diagonal:=1 TO n-1 DO\n",
    "    FOR i:=1 TO n-diagonal DO\n",
    "    C[i,i+diagonal]:=Min(C,i,i+diagonal)\n",
    "    END\n",
    "    END\n",
    "    END Costes;\n",
    "\n",
    "Dicho procedimiento utiliza la siguiente función, que permite calcular la\n",
    "expresión del mínimo que aparece en la ecuación en recurrencia:\n",
    "\n",
    "    PROCEDURE Min(VAR C:MATRIZ; i,j:CARDINAL):CARDINAL;\n",
    "    VAR k,min:CARDINAL;\n",
    "    BEGIN\n",
    "    min:=MAX(CARDINAL);\n",
    "    FOR k:=i+1 TO j DO\n",
    "    min:=Min2(min,T[i,k] + C[k,j])\n",
    "    END;\n",
    "    RETURN min\n",
    "    END Min;\n",
    "\n",
    "La función Min2 es la que calcula el mínimo de dos números naturales. Es\n",
    "importante observar que esta función, por la forma en que se va rellenando la\n",
    "matriz C, sólo hace uso de los elementos calculados hasta el momento.\n",
    "La complejidad del algoritmo es de orden O(n3), pues está compuesto por dos\n",
    "bucles anidados de tamaño n, que contienen la llamada a una función de orden\n",
    "O(n), la que calcula el mínimo.\n",
    "\n",
    "Fuente: http://www.lcc.uma.es/~av/Libro/CAP5.pdf\n"
   ]
  }
 ],
 "metadata": {
  "kernelspec": {
   "display_name": "Python 2",
   "language": "python",
   "name": "python2"
  },
  "language_info": {
   "codemirror_mode": {
    "name": "ipython",
    "version": 2
   },
   "file_extension": ".py",
   "mimetype": "text/x-python",
   "name": "python",
   "nbconvert_exporter": "python",
   "pygments_lexer": "ipython2",
   "version": "2.7.12"
  }
 },
 "nbformat": 4,
 "nbformat_minor": 1
}
