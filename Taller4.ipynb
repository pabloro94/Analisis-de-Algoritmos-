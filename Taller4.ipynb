{
 "cells": [
  {
   "cell_type": "markdown",
   "metadata": {},
   "source": [
    "# Punto 1"
   ]
  },
  {
   "cell_type": "code",
   "execution_count": 1,
   "metadata": {
    "collapsed": false
   },
   "outputs": [
    {
     "data": {
      "text/plain": [
       "'BCBA'"
      ]
     },
     "execution_count": 1,
     "metadata": {},
     "output_type": "execute_result"
    }
   ],
   "source": [
    "#Punto 1\n",
    "\n",
    "def lcs(a, b):\n",
    "    lengths = [[0 for j in range(len(b)+1)] for i in range(len(a)+1)]\n",
    "    # row 0 and column 0 are initialized to 0 already\n",
    "    for i, x in enumerate(a):\n",
    "        for j, y in enumerate(b):\n",
    "            if x == y:\n",
    "                lengths[i+1][j+1] = lengths[i][j] + 1\n",
    "            else:\n",
    "                lengths[i+1][j+1] = max(lengths[i+1][j], lengths[i][j+1])\n",
    "    # read the substring out from the matrix\n",
    "    result = \"\"\n",
    "    x, y = len(a), len(b)\n",
    "    while x != 0 and y != 0:\n",
    "        if lengths[x][y] == lengths[x-1][y]:\n",
    "            x -= 1\n",
    "        elif lengths[x][y] == lengths[x][y-1]:\n",
    "            y -= 1\n",
    "        else:\n",
    "            assert a[x-1] == b[y-1]\n",
    "            result = a[x-1] + result\n",
    "            x -= 1\n",
    "            y -= 1\n",
    "    return result\n",
    "\n",
    "lcs('ABCBDAB','BDCABA')\n"
   ]
  },
  {
   "cell_type": "markdown",
   "metadata": {},
   "source": [
    "# Punto 3"
   ]
  },
  {
   "cell_type": "code",
   "execution_count": 2,
   "metadata": {
    "collapsed": false
   },
   "outputs": [
    {
     "name": "stdout",
     "output_type": "stream",
     "text": [
      "('El minimo costo de edicion es:', 7)\n"
     ]
    }
   ],
   "source": [
    "# Programa recurviso para encontrar el minimo numero\n",
    "# Operaciones para la conversion del string1 y string2\n",
    "def editDistance( str1, str2, m , n):\n",
    " \n",
    "    # Si el primer string es vacio, la unica solucion es\n",
    "    # insertar todos los caracteres del segundo string en el primero\n",
    "    if m==0:\n",
    "         return n\n",
    " \n",
    "    # Si el segundo string es vacio, la unica solucion es remover todos los caracteres del primer String\n",
    "    if n==0:\n",
    "        return m\n",
    " \n",
    "    # Si los ultimos caracteres de las dos cadenas son iguales,\n",
    "    # No se puede hacer mucho. Ignorar los ultimos caracteres \n",
    "    # y sacar la cuenta para los strings restantes.\n",
    "    if str1[m-1]==str2[n-1]:\n",
    "        return editDistance(str1,str2,m-1,n-1)\n",
    " \n",
    "    # Si los ultimos caracteres no son iguales, se consideran tres\n",
    "    # operaciones (Insertar, remover, y remplazar) en el ultimo caracter de la primera cadena, \n",
    "    # recursivamente se calcula el costo computacional de cada una de las operaciones\n",
    "    # y se toma el menor valor de los tres.\n",
    "    return 1 + min(editDistance(str1, str2, m, n-1), editDistance(str1, str2, m-1, n),    editDistance(str1, str2, m-1, n-1))\n",
    "\n",
    "str1=\"Ejemplo\"\n",
    "str2=\"Prueba\"\n",
    "print (\"El minimo costo de edicion es:\", editDistance(str1, str2, len(str1), len(str2)))\n",
    "    "
   ]
  },
  {
   "cell_type": "markdown",
   "metadata": {},
   "source": [
    "# Punto 4"
   ]
  },
  {
   "cell_type": "markdown",
   "metadata": {
    "collapsed": true
   },
   "source": [
    "\n",
    "\n",
    "Llamaremos T[i,j] a la tarifa para ir del embarcadero i al j (directo). Estos valores\n",
    "se almacenarán en una matriz triangular superior de orden n, siendo n el número de\n",
    "embarcaderos.\n",
    "El problema puede resolverse mediante Programación Dinámica ya que para\n",
    "calcular el coste óptimo para ir del embarcadero i al j podemos hacerlo de forma\n",
    "recurrente, suponiendo que la primera parada la realizamos en un embarcadero\n",
    "intermedio k (i < k ≤ j):\n",
    "C(i,j) = T(i,k) + C(k,j).\n",
    "En esta ecuación se contempla el viaje directo, que corresponde al caso en el\n",
    "que k coincide con j. Esta ecuación verifica también que la solución buscada C(i,j)\n",
    "satisface el principio del óptimo, pues el coste C(k,j), que forma parte de la\n",
    "solución, ha de ser, a su vez, óptimo. Podemos plantear entonces la siguiente expresión de la solución:\n",
    "\n",
    "C (i,j) = { 0 si i=j \n",
    "            \n",
    "      Min{T(i,k) + C(k,j)} si i<j\n",
    "            \n",
    "La idea de esta segunda expresión surge al observar que en cualquiera de los\n",
    "trayectos siempre existe un primer salto inicial óptimo.\n",
    "\n",
    "Para resolverla según la técnica de Programación Dinámica, hace falta utilizar\n",
    "una estructura para almacenar resultados intermedios y evitar la repetición de los\n",
    "cálculos. La estructura que usaremos es una matriz triangular de costes C[i,j], que\n",
    "iremos rellenando por diagonales mediante el procedimiento que hemos\n",
    "denominado Costes. La solución al problema es la propia tabla, y sus valores C[i,j]\n",
    "indican el coste óptimo para ir del embarcadero i al j.\n",
    "\n",
    "    CONST MAXEMBARCADEROS = ...;\n",
    "    TYPE MATRIZ=ARRAY[1..MAXEMBARCADEROS],[1..MAXEMBARCADEROS] OF CARDINAL;\n",
    "    PROCEDURE Costes(VAR C:MATRIZ;n:CARDINAL);\n",
    "    VAR i, diagonal:CARDINAL;\n",
    "    BEGIN\n",
    "    FOR i:=1 TO n DO C[i,i]:=0 END; (* condiciones iniciales *)\n",
    "    FOR diagonal:=1 TO n-1 DO\n",
    "    FOR i:=1 TO n-diagonal DO\n",
    "    C[i,i+diagonal]:=Min(C,i,i+diagonal)\n",
    "    END\n",
    "    END\n",
    "    END Costes;\n",
    "\n",
    "Dicho procedimiento utiliza la siguiente función, que permite calcular la\n",
    "expresión del mínimo que aparece en la ecuación en recurrencia:\n",
    "\n",
    "    PROCEDURE Min(VAR C:MATRIZ; i,j:CARDINAL):CARDINAL;\n",
    "    VAR k,min:CARDINAL;\n",
    "    BEGIN\n",
    "    min:=MAX(CARDINAL);\n",
    "    FOR k:=i+1 TO j DO\n",
    "    min:=Min2(min,T[i,k] + C[k,j])\n",
    "    END;\n",
    "    RETURN min\n",
    "    END Min;\n",
    "\n",
    "La función Min2 es la que calcula el mínimo de dos números naturales. Es\n",
    "importante observar que esta función, por la forma en que se va rellenando la\n",
    "matriz C, sólo hace uso de los elementos calculados hasta el momento.\n",
    "La complejidad del algoritmo es de orden O(n3), pues está compuesto por dos\n",
    "bucles anidados de tamaño n, que contienen la llamada a una función de orden\n",
    "O(n), la que calcula el mínimo.\n",
    "\n",
    "Fuente: http://www.lcc.uma.es/~av/Libro/CAP5.pdf\n"
   ]
  },
  {
   "cell_type": "markdown",
   "metadata": {},
   "source": [
    "# Punto 2: ROD CUTTING"
   ]
  },
  {
   "cell_type": "code",
   "execution_count": 31,
   "metadata": {
    "collapsed": false
   },
   "outputs": [
    {
     "name": "stdout",
     "output_type": "stream",
     "text": [
      "Implementacion de arriba hacia abajo simple\n",
      "22\n",
      "[9.93220737655065e-07, 4.966103006154299e-06, 4.303955847717589e-06, 7.283617833309108e-06, 1.3242941349744797e-05, 2.582373576842656e-05, 6.356611879709817e-05, 0.00010230172256342485]\n"
     ]
    }
   ],
   "source": [
    "#rod-cutting\n",
    "\n",
    "import time\n",
    "import random as rnd\n",
    "import math\n",
    "import numpy as np\n",
    "import pylab as pl\n",
    "import math\n",
    "import numpy as np\n",
    "import pylab as pl\n",
    "%matplotlib inline\n",
    "\n",
    "\n",
    "#Implementacion de arriba hacia abajo simple\n",
    "def cut_rodR(p, n):\n",
    "    if n==0:\n",
    "        return 0\n",
    "    q = float('-inf')\n",
    "    for i in range(n):\n",
    "        #print i\n",
    "        q = max(q, p[i] + cut_rodR(p, n-1-i))\n",
    "    return q\n",
    "\n",
    "p = [1,5,8,9,10,17,17,20,24,30]\n",
    "sol = cut_rodR(p,8)\n",
    "print(\"Implementacion de arriba hacia abajo simple\")\n",
    "print (sol)\n",
    "\n",
    "def time_analysis_cut_rodR(n):\n",
    "    results = []\n",
    "    for i in range(n):\n",
    "        t_inicial=time.clock()\n",
    "        cut_rodR(p, i)\n",
    "        t_final= time.clock()\n",
    "        results.append(t_final-t_inicial)\n",
    "    return results\n",
    "\n",
    "print (time_analysis_cut_rodR(8))\n"
   ]
  },
  {
   "cell_type": "code",
   "execution_count": 24,
   "metadata": {
    "collapsed": false
   },
   "outputs": [
    {
     "name": "stdout",
     "output_type": "stream",
     "text": [
      "Implementacion de arriba hacia abajo con memorizacion\n",
      "22\n",
      "[2.9796619855915196e-06, 5.297176585372654e-06, 5.297176585372654e-06, 6.952544254090753e-06, 9.601132660463918e-06, 1.2580794418681762e-05, 1.622260310796264e-05, 2.085763276227226e-05]\n"
     ]
    }
   ],
   "source": [
    "import time\n",
    "import random as rnd\n",
    "import math\n",
    "import numpy as np\n",
    "import pylab as pl\n",
    "import math\n",
    "import numpy as np\n",
    "import pylab as pl\n",
    "%matplotlib inline\n",
    "\n",
    "#Implementacion de arriba hacia abajo con memorizacion\n",
    "\n",
    "def memo_cut_rodTD(p, n):\n",
    "    r = [-1] * (n+1)\n",
    "    return memo_cut_rodTD_aux(p,n,r)\n",
    "\n",
    "def memo_cut_rodTD_aux(p,n,r):\n",
    "    if r[n] >= 0:\n",
    "        return r[n]\n",
    "    if n == 0:\n",
    "        q = 0\n",
    "    else:\n",
    "        q = float('-inf')\n",
    "        for i in range(1,n+1):\n",
    "            q = max(q, p[i-1]+memo_cut_rodTD_aux(p,n-i,r))\n",
    "    r[n]=q\n",
    "    return q\n",
    "\n",
    "sol = memo_cut_rodTD(p,8)\n",
    "print(\"Implementacion de arriba hacia abajo con memorizacion\")\n",
    "print (sol)\n",
    "\n",
    "\n",
    "def time_analysis_cut_rodTD(n):\n",
    "    results = []\n",
    "    for i in range(n):\n",
    "        t_inicial=time.clock()\n",
    "        memo_cut_rodTD(p, i)\n",
    "        t_final= time.clock()\n",
    "        results.append(t_final-t_inicial)\n",
    "    return results\n",
    "\n",
    "print (time_analysis_cut_rodTD(8))"
   ]
  },
  {
   "cell_type": "code",
   "execution_count": 21,
   "metadata": {
    "collapsed": false
   },
   "outputs": [
    {
     "name": "stdout",
     "output_type": "stream",
     "text": [
      "Implementacion de abajo hacia arriba con memorizacion\n",
      "22\n",
      "[3.641808916654554e-06, 5.959323743809364e-06, 4.966103233527974e-06, 5.959323743809364e-06, 7.614691185153788e-06, 1.0263279591526953e-05, 1.3242941577118472e-05, 1.688475026639935e-05]\n"
     ]
    }
   ],
   "source": [
    "import time\n",
    "import random as rnd\n",
    "import math\n",
    "import numpy as np\n",
    "import pylab as pl\n",
    "import math\n",
    "import numpy as np\n",
    "import pylab as pl\n",
    "%matplotlib inline\n",
    "\n",
    "#Implementacion de abajo hacia arriba con memorizacion\n",
    "\n",
    "def memo_cut_rodBU(p,n):\n",
    "    r = [0] * (n+1)\n",
    "    r[0] = 0\n",
    "    for j in range(1,n+1):\n",
    "        q = float('-inf')\n",
    "        for i in range(1,j+1):            \n",
    "            q = max(q, p[i-1]+r[j-i])\n",
    "        r[j] = q\n",
    "    return r[n]\n",
    "\n",
    "sol = memo_cut_rodBU(p,8)\n",
    "print(\"Implementacion de abajo hacia arriba con memorizacion\")\n",
    "print (sol)\n",
    "\n",
    "def time_analysis_cut_rodBU(n):\n",
    "    results = []\n",
    "    for i in range(n):\n",
    "        t_inicial=time.clock()\n",
    "        memo_cut_rodBU(p, i)\n",
    "        t_final= time.clock()\n",
    "        results.append(t_final-t_inicial)\n",
    "    return results\n",
    "\n",
    "print (time_analysis_cut_rodBU(8))\n"
   ]
  },
  {
   "cell_type": "code",
   "execution_count": 28,
   "metadata": {
    "collapsed": false
   },
   "outputs": [
    {
     "name": "stdout",
     "output_type": "stream",
     "text": [
      "Cortes\n",
      "[2, 6]\n",
      "22\n"
     ]
    }
   ],
   "source": [
    "#Cortes\n",
    "print(\"Cortes\")\n",
    "def mostrar_secuencia(lista,n,contador):\n",
    "    aux=lista[n-1]\n",
    "    aux2=[]\n",
    "    if(0 in aux):\n",
    "        return aux;\n",
    "    else:\n",
    "        aux2.insert(contador,mostrar_secuencia(lista,int(aux[0]),contador))\n",
    "        contador=contador+1\n",
    "        aux2.insert(contador,mostrar_secuencia(lista,int(aux[1]),contador))\n",
    "        \n",
    "        posva=0\n",
    "        listaF=[]\n",
    "        for i in range(0,len(aux2)):\n",
    "            for j in range(0,2):\n",
    "                if(aux2[i][j]!=0):\n",
    "                    listaF.insert(posva,int(aux2[i][j]))\n",
    "                    posva=posva+1\n",
    "        \n",
    "    return listaF\n",
    "\n",
    "def memo_cut_rodBU(p,n):\n",
    "    r = [0] * (n+1)\n",
    "    r[0] = 0\n",
    "    lista=[]\n",
    "\n",
    "    \n",
    "    for j in range(1,n+1):\n",
    "        auxiliar1=0\n",
    "        auxiliar2=0\n",
    "        aux=np.zeros(2)\n",
    "        q = float('-inf')\n",
    "        for i in range(1,j+1): \n",
    "            if(q<p[i-1]+r[j-i]):\n",
    "                auxiliar1=i\n",
    "                auxiliar2=j-i\n",
    "            \n",
    "            \n",
    "            q = max(q, p[i-1]+r[j-i])\n",
    "            \n",
    "            \n",
    "        r[j] = q\n",
    "        aux[0]=int(auxiliar1)\n",
    "        aux[1]=int(auxiliar2)\n",
    "        \n",
    "        lista.insert(j,aux)\n",
    "    aux3=mostrar_secuencia(lista,n,0);\n",
    "    print(aux3)\n",
    "    \n",
    "    return r[n]\n",
    "\n",
    "\n",
    "sol = memo_cut_rodBU(p,8)\n",
    "print (sol)"
   ]
  },
  {
   "cell_type": "code",
   "execution_count": 32,
   "metadata": {
    "collapsed": false
   },
   "outputs": [
    {
     "ename": "IndexError",
     "evalue": "list index out of range",
     "output_type": "error",
     "traceback": [
      "\u001b[0;31m---------------------------------------------------------------------------\u001b[0m",
      "\u001b[0;31mIndexError\u001b[0m                                Traceback (most recent call last)",
      "\u001b[0;32m<ipython-input-32-eccecff080ca>\u001b[0m in \u001b[0;36m<module>\u001b[0;34m()\u001b[0m\n\u001b[1;32m     19\u001b[0m \u001b[0mpl\u001b[0m\u001b[1;33m.\u001b[0m\u001b[0mplot\u001b[0m\u001b[1;33m(\u001b[0m\u001b[0mx\u001b[0m\u001b[1;33m,\u001b[0m \u001b[0my\u001b[0m\u001b[1;33m,\u001b[0m \u001b[1;34m'k.'\u001b[0m\u001b[1;33m,\u001b[0m\u001b[0mcolor\u001b[0m\u001b[1;33m=\u001b[0m\u001b[1;34m'red'\u001b[0m\u001b[1;33m)\u001b[0m\u001b[1;33m\u001b[0m\u001b[0m\n\u001b[1;32m     20\u001b[0m \u001b[0mx\u001b[0m \u001b[1;33m=\u001b[0m \u001b[0mnp\u001b[0m\u001b[1;33m.\u001b[0m\u001b[0marange\u001b[0m\u001b[1;33m(\u001b[0m\u001b[1;36m8\u001b[0m\u001b[1;33m)\u001b[0m\u001b[1;33m\u001b[0m\u001b[0m\n\u001b[0;32m---> 21\u001b[0;31m \u001b[0my\u001b[0m \u001b[1;33m=\u001b[0m \u001b[0mnp\u001b[0m\u001b[1;33m.\u001b[0m\u001b[0marray\u001b[0m\u001b[1;33m(\u001b[0m\u001b[0mtime_analysis_cut_rodBU\u001b[0m\u001b[1;33m(\u001b[0m\u001b[1;36m8\u001b[0m\u001b[1;33m)\u001b[0m\u001b[1;33m)\u001b[0m \u001b[1;31m#Bottom up\u001b[0m\u001b[1;33m\u001b[0m\u001b[0m\n\u001b[0m\u001b[1;32m     22\u001b[0m \u001b[0mpl\u001b[0m\u001b[1;33m.\u001b[0m\u001b[0mplot\u001b[0m\u001b[1;33m(\u001b[0m\u001b[0mx\u001b[0m\u001b[1;33m,\u001b[0m \u001b[0my\u001b[0m\u001b[1;33m,\u001b[0m \u001b[1;34m'k.'\u001b[0m\u001b[1;33m,\u001b[0m\u001b[0mcolor\u001b[0m\u001b[1;33m=\u001b[0m\u001b[1;34m'green'\u001b[0m\u001b[1;33m)\u001b[0m\u001b[1;33m\u001b[0m\u001b[0m\n",
      "\u001b[0;32m<ipython-input-21-a82bbaed4bf9>\u001b[0m in \u001b[0;36mtime_analysis_cut_rodBU\u001b[0;34m(n)\u001b[0m\n\u001b[1;32m     29\u001b[0m     \u001b[1;32mfor\u001b[0m \u001b[0mi\u001b[0m \u001b[1;32min\u001b[0m \u001b[0mrange\u001b[0m\u001b[1;33m(\u001b[0m\u001b[0mn\u001b[0m\u001b[1;33m)\u001b[0m\u001b[1;33m:\u001b[0m\u001b[1;33m\u001b[0m\u001b[0m\n\u001b[1;32m     30\u001b[0m         \u001b[0mt_inicial\u001b[0m\u001b[1;33m=\u001b[0m\u001b[0mtime\u001b[0m\u001b[1;33m.\u001b[0m\u001b[0mclock\u001b[0m\u001b[1;33m(\u001b[0m\u001b[1;33m)\u001b[0m\u001b[1;33m\u001b[0m\u001b[0m\n\u001b[0;32m---> 31\u001b[0;31m         \u001b[0mmemo_cut_rodBU\u001b[0m\u001b[1;33m(\u001b[0m\u001b[0mp\u001b[0m\u001b[1;33m,\u001b[0m \u001b[0mi\u001b[0m\u001b[1;33m)\u001b[0m\u001b[1;33m\u001b[0m\u001b[0m\n\u001b[0m\u001b[1;32m     32\u001b[0m         \u001b[0mt_final\u001b[0m\u001b[1;33m=\u001b[0m \u001b[0mtime\u001b[0m\u001b[1;33m.\u001b[0m\u001b[0mclock\u001b[0m\u001b[1;33m(\u001b[0m\u001b[1;33m)\u001b[0m\u001b[1;33m\u001b[0m\u001b[0m\n\u001b[1;32m     33\u001b[0m         \u001b[0mresults\u001b[0m\u001b[1;33m.\u001b[0m\u001b[0mappend\u001b[0m\u001b[1;33m(\u001b[0m\u001b[0mt_final\u001b[0m\u001b[1;33m-\u001b[0m\u001b[0mt_inicial\u001b[0m\u001b[1;33m)\u001b[0m\u001b[1;33m\u001b[0m\u001b[0m\n",
      "\u001b[0;32m<ipython-input-28-d69eff6ccb8d>\u001b[0m in \u001b[0;36mmemo_cut_rodBU\u001b[0;34m(p, n)\u001b[0m\n\u001b[1;32m     46\u001b[0m \u001b[1;33m\u001b[0m\u001b[0m\n\u001b[1;32m     47\u001b[0m         \u001b[0mlista\u001b[0m\u001b[1;33m.\u001b[0m\u001b[0minsert\u001b[0m\u001b[1;33m(\u001b[0m\u001b[0mj\u001b[0m\u001b[1;33m,\u001b[0m\u001b[0maux\u001b[0m\u001b[1;33m)\u001b[0m\u001b[1;33m\u001b[0m\u001b[0m\n\u001b[0;32m---> 48\u001b[0;31m     \u001b[0maux3\u001b[0m\u001b[1;33m=\u001b[0m\u001b[0mmostrar_secuencia\u001b[0m\u001b[1;33m(\u001b[0m\u001b[0mlista\u001b[0m\u001b[1;33m,\u001b[0m\u001b[0mn\u001b[0m\u001b[1;33m,\u001b[0m\u001b[1;36m0\u001b[0m\u001b[1;33m)\u001b[0m\u001b[1;33m;\u001b[0m\u001b[1;33m\u001b[0m\u001b[0m\n\u001b[0m\u001b[1;32m     49\u001b[0m     \u001b[1;32mprint\u001b[0m\u001b[1;33m(\u001b[0m\u001b[0maux3\u001b[0m\u001b[1;33m)\u001b[0m\u001b[1;33m\u001b[0m\u001b[0m\n\u001b[1;32m     50\u001b[0m \u001b[1;33m\u001b[0m\u001b[0m\n",
      "\u001b[0;32m<ipython-input-28-d69eff6ccb8d>\u001b[0m in \u001b[0;36mmostrar_secuencia\u001b[0;34m(lista, n, contador)\u001b[0m\n\u001b[1;32m      2\u001b[0m \u001b[1;32mprint\u001b[0m\u001b[1;33m(\u001b[0m\u001b[1;34m\"Cortes\"\u001b[0m\u001b[1;33m)\u001b[0m\u001b[1;33m\u001b[0m\u001b[0m\n\u001b[1;32m      3\u001b[0m \u001b[1;32mdef\u001b[0m \u001b[0mmostrar_secuencia\u001b[0m\u001b[1;33m(\u001b[0m\u001b[0mlista\u001b[0m\u001b[1;33m,\u001b[0m\u001b[0mn\u001b[0m\u001b[1;33m,\u001b[0m\u001b[0mcontador\u001b[0m\u001b[1;33m)\u001b[0m\u001b[1;33m:\u001b[0m\u001b[1;33m\u001b[0m\u001b[0m\n\u001b[0;32m----> 4\u001b[0;31m     \u001b[0maux\u001b[0m\u001b[1;33m=\u001b[0m\u001b[0mlista\u001b[0m\u001b[1;33m[\u001b[0m\u001b[0mn\u001b[0m\u001b[1;33m-\u001b[0m\u001b[1;36m1\u001b[0m\u001b[1;33m]\u001b[0m\u001b[1;33m\u001b[0m\u001b[0m\n\u001b[0m\u001b[1;32m      5\u001b[0m     \u001b[0maux2\u001b[0m\u001b[1;33m=\u001b[0m\u001b[1;33m[\u001b[0m\u001b[1;33m]\u001b[0m\u001b[1;33m\u001b[0m\u001b[0m\n\u001b[1;32m      6\u001b[0m     \u001b[1;32mif\u001b[0m\u001b[1;33m(\u001b[0m\u001b[1;36m0\u001b[0m \u001b[1;32min\u001b[0m \u001b[0maux\u001b[0m\u001b[1;33m)\u001b[0m\u001b[1;33m:\u001b[0m\u001b[1;33m\u001b[0m\u001b[0m\n",
      "\u001b[0;31mIndexError\u001b[0m: list index out of range"
     ]
    },
    {
     "data": {
      "image/png": "[encoded data removed]",
      "text/plain": [
       "<matplotlib.figure.Figure at 0x7d7bac8>"
      ]
     },
     "metadata": {},
     "output_type": "display_data"
    }
   ],
   "source": [
    "import time\n",
    "import random as rnd\n",
    "import math\n",
    "import numpy as np\n",
    "import pylab as pl\n",
    "import math\n",
    "import numpy as np\n",
    "import pylab as pl\n",
    "%matplotlib inline\n",
    "\n",
    "#Comparacion \n",
    "\n",
    "pl.clf()\n",
    "x = np.arange(8)\n",
    "y = np.array(time_analysis_cut_rodR(8))  #Simple\n",
    "pl.plot(x, y, 'k.',color='blue')\n",
    "x = np.arange(8)\n",
    "y = np.array(time_analysis_cut_rodTD(8)) #Top down\n",
    "pl.plot(x, y, 'k.',color='red')\n",
    "x = np.arange(8)\n",
    "y = np.array(time_analysis_cut_rodBU(8)) #Bottom up\n",
    "pl.plot(x, y, 'k.',color='green')"
   ]
  },
  {
   "cell_type": "code",
   "execution_count": null,
   "metadata": {
    "collapsed": true
   },
   "outputs": [],
   "source": []
  }
 ],
 "metadata": {
  "kernelspec": {
   "display_name": "Python [default]",
   "language": "python",
   "name": "python2"
  },
  "language_info": {
   "codemirror_mode": {
    "name": "ipython",
    "version": 2
   },
   "file_extension": ".py",
   "mimetype": "text/x-python",
   "name": "python",
   "nbconvert_exporter": "python",
   "pygments_lexer": "ipython2",
   "version": "2.7.12"
  }
 },
 "nbformat": 4,
 "nbformat_minor": 1
}
